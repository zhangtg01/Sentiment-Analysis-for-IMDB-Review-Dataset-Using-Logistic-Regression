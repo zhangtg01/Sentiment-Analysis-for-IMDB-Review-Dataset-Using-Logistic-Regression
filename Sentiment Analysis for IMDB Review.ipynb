{
 "cells": [
  {
   "cell_type": "markdown",
   "metadata": {},
   "source": [
    "# Project: Sentiment Analysis for IMDB Review Dataset Using Logistic Regression\n"
   ]
  },
  {
   "cell_type": "markdown",
   "metadata": {},
   "source": [
    "## Introduction and learning goals <a name=\"in\"></a>\n",
    "<hr>\n",
    "\n",
    "Welcome to the assignment! In this assignment, you will practice:\n",
    "\n",
    "- Explain components of a confusion matrix.\n",
    "- Define precision, recall, and f1-score and use them to evaluate different classifiers.\n",
    "- Identify whether there is class imbalance and whether you need to deal with it.\n",
    "- Explain `class_weight` and use it to deal with data imbalance.\n",
    "- Apply different scoring functions with `cross_validate` and `GridSearchCV` and `RandomizedSearchCV`.\n",
    "- Explain the general intuition behind linear models.\n",
    "- Explain the `fit` and `predict` paradigm of linear models.\n",
    "- Use `scikit-learn`'s `LogisticRegression` classifier.\n",
    "    - Use `fit`, `predict` and `predict_proba`.   \n",
    "    - Use `coef_` to interpret the model weights.\n",
    "- Explain the advantages and limitations of linear classifiers. \n"
   ]
  },
  {
   "cell_type": "markdown",
   "metadata": {},
   "source": [
    "##  1.Precision, recall, and f1 score \"by hand\" (without `sklearn`) <a name=\"1\"></a>\n",
    "<hr>\n",
    "\n",
    "\n",
    "Consider the problem of predicting whether a new product will be successful or not and is worth investing in. Below are confusion matrices of two machine learning models: Model A and Model B. \n",
    "\n",
    "##### Model A\n",
    "|    Actual/Predicted         | Predicted successful| Predicted not successful |\n",
    "| :-------------------------- | ------------------: | -----------------------: |\n",
    "| **Actually successful**     | 3                   | 5                        |\n",
    "| **Actually not successful** | 6                   | 96                       |\n",
    " \n",
    "\n",
    "##### Model B\n",
    "|    Actual/Predicted         | Predicted successful| Predicted not successful |\n",
    "| :-------------------------- | ------------------: | -----------------------: |\n",
    "| **Actually successful**     | 6                   |                        14 |\n",
    "| **Actually not successful** | 0                  |                       90 |  "
   ]
  },
  {
   "cell_type": "markdown",
   "metadata": {},
   "source": [
    "### 1.1 Positive vs. negative class\n",
    "rubric={autograde:1, reasoning:1}\n",
    "\n",
    "<div class=\"alert alert-info\" style=\"color:black\">\n",
    "    \n",
    "Precision, recall, and f1 score depend crucially upon which class is considered \"positive\", that is the thing you wish to find. In the example above, which class ( `Actually successful` or `Actually not successful`)  is likely to be the \"positive\" class and why?\n",
    "\n",
    "Save the label name in a string object named `answer_1_1`.\n",
    "\n",
    "</div>"
   ]
  },
  {
   "cell_type": "markdown",
   "metadata": {},
   "source": [
    "### 1.2 Accuracy\n",
    "rubric={autograde:2}\n",
    "\n",
    "<div class=\"alert alert-info\" style=\"color:black\">\n",
    "\n",
    "Calculate accuracies for Model A and Model B. \n",
    "\n",
    "</div>"
   ]
  },
  {
   "cell_type": "code",
   "execution_count": 80,
   "metadata": {
    "nbgrader": {
     "grade": false,
     "grade_id": "cell-19893d9ec734e650",
     "locked": false,
     "schema_version": 3,
     "solution": true,
     "task": false
    }
   },
   "outputs": [
    {
     "name": "stdout",
     "output_type": "stream",
     "text": [
      "0.9\n",
      "0.8727272727272727\n"
     ]
    }
   ],
   "source": [
    "# True prediction/overall prediction\n",
    "model_a_acc =(3+96)/ (3+5+6+96)\n",
    "model_b_acc = (6+90)/(6+90+14)\n",
    "print(model_a_acc)\n",
    "print(model_b_acc)"
   ]
  },
  {
   "cell_type": "markdown",
   "metadata": {},
   "source": [
    "### 1.4 Model A - Precision, recall, f1-score\n",
    "rubric={accuracy:1.5}\n",
    "\n",
    "<div class=\"alert alert-info\" style=\"color:black\">\n",
    "\n",
    "Calculate precision, recall, f1-score for **Model A** by designating the appropriate fraction to objects named `a_precision`, `a_recall` and `a_f1`. \n",
    "\n",
    "You can use the objects `a_precision` and `a_recall` to use in your `a_f1` calculation.\n",
    "    \n",
    "</div>"
   ]
  },
  {
   "cell_type": "code",
   "execution_count": 81,
   "metadata": {
    "nbgrader": {
     "grade": false,
     "grade_id": "cell-feae0ff2bfe786c6",
     "locked": false,
     "schema_version": 3,
     "solution": true,
     "task": false
    }
   },
   "outputs": [
    {
     "name": "stdout",
     "output_type": "stream",
     "text": [
      "0.3333333333333333 0.375 0.35294117647058826\n"
     ]
    }
   ],
   "source": [
    "a_precision = 3/(3+6)\n",
    "a_recall = 3/(3+5)\n",
    "a_f1 = 2*a_precision*a_recall/(a_precision+a_recall)\n",
    "print(a_precision,a_recall,a_f1)"
   ]
  },
  {
   "cell_type": "markdown",
   "metadata": {},
   "source": [
    "### 1.5 Model B - Precision, recall, f1-score\n",
    "rubric={accuracy:1.5}\n",
    "\n",
    "<div class=\"alert alert-info\" style=\"color:black\">\n",
    "\n",
    "Calculate precision, recall, f1-score for **Model B** by designating the appropriate fraction to objects named `b_precision`, `b_recall` and `b_f1`. \n",
    "\n",
    "You can use the objects `b_precision` and `b_recall` to use in your `b_f1` calculation.\n",
    "    \n",
    "</div>"
   ]
  },
  {
   "cell_type": "code",
   "execution_count": 82,
   "metadata": {
    "nbgrader": {
     "grade": false,
     "grade_id": "cell-2ae8130bd6cb0aa3",
     "locked": false,
     "schema_version": 3,
     "solution": true,
     "task": false
    }
   },
   "outputs": [
    {
     "name": "stdout",
     "output_type": "stream",
     "text": [
      "1.0 0.3 0.4615384615384615\n"
     ]
    }
   ],
   "source": [
    "b_precision = 6/(0+6)\n",
    "b_recall = 6/(6+14)\n",
    "b_f1 = 2*b_precision*b_recall/(b_precision+b_recall)\n",
    "print(b_precision,b_recall,b_f1)"
   ]
  },
  {
   "cell_type": "markdown",
   "metadata": {},
   "source": [
    "## 2: Sentiment analysis on the IMDB dataset: model building <a name=\"3\"></a>\n",
    "<hr>\n",
    "\n",
    "<img src=\"https://ia.media-imdb.com/images/M/MV5BMTk3ODA4Mjc0NF5BMl5BcG5nXkFtZTgwNDc1MzQ2OTE@._V1_.png\"  width = \"40%\" alt=\"404 image\" />\n",
    "\n",
    "In this exercise, you will carry out sentiment analysis on a real corpus, [the IMDB movie review dataset](https://www.kaggle.com/utathya/imdb-review-dataset).\n",
    "The starter code below loads the data CSV file (assuming that it's in the data directory) as a pandas DataFrame called `imdb_df`.\n",
    "\n",
    "The supervised learning task is, given the text of a movie review, to predict whether the review sentiment is positive (reviewer liked the movie) or negative (reviewer disliked the movie). We have done a bit of preprocessing on the dataset already where the positive review are labelled `1` and the negative reviews are labelled `0`."
   ]
  },
  {
   "cell_type": "code",
   "execution_count": 83,
   "metadata": {},
   "outputs": [],
   "source": [
    "import numpy as np\n",
    "import matplotlib.pyplot as plt"
   ]
  },
  {
   "cell_type": "code",
   "execution_count": 84,
   "metadata": {},
   "outputs": [
    {
     "data": {
      "text/html": [
       "<div>\n",
       "<style scoped>\n",
       "    .dataframe tbody tr th:only-of-type {\n",
       "        vertical-align: middle;\n",
       "    }\n",
       "\n",
       "    .dataframe tbody tr th {\n",
       "        vertical-align: top;\n",
       "    }\n",
       "\n",
       "    .dataframe thead th {\n",
       "        text-align: right;\n",
       "    }\n",
       "</style>\n",
       "<table border=\"1\" class=\"dataframe\">\n",
       "  <thead>\n",
       "    <tr style=\"text-align: right;\">\n",
       "      <th></th>\n",
       "      <th>review</th>\n",
       "      <th>label</th>\n",
       "    </tr>\n",
       "  </thead>\n",
       "  <tbody>\n",
       "    <tr>\n",
       "      <th>2139</th>\n",
       "      <td>This movie did attempt to capture the naive idealism that many young teenaged girls have for fun, friendship, escape, danger, sex, maturity, etc. The problem was that it failed to establish these things on every single level; which is why it failed to build a decent story around them. I couldn't...</td>\n",
       "      <td>0</td>\n",
       "    </tr>\n",
       "    <tr>\n",
       "      <th>7454</th>\n",
       "      <td>The Earth is destined to be no more thanks to Father Pergado and a bunch of Nuns. Christopher Lee (who has since said that he was duped in to appearing in this by his producers who told him loads of great actors were involved) is Father Pergado and gets to do his usual serious and scary routine....</td>\n",
       "      <td>0</td>\n",
       "    </tr>\n",
       "    <tr>\n",
       "      <th>8157</th>\n",
       "      <td>I didn't see this movie when it originally came out, but there has been a couple songs sharing the title and the term still gets used from time to time and I figured there must be something to the flick, so I dug it up and gave a view. Now I would like the approximate hour and forty five minutes...</td>\n",
       "      <td>0</td>\n",
       "    </tr>\n",
       "    <tr>\n",
       "      <th>4435</th>\n",
       "      <td>I saw this film purely based on the fact that it was on the DPP Video Nasty list, and while I'm glad I saw it because it's now 'another Video Nasty down' - on its own merits, Andy Milligan's film really isn't worth bothering with. There are, of course, far worse films on the infamous list; but t...</td>\n",
       "      <td>0</td>\n",
       "    </tr>\n",
       "    <tr>\n",
       "      <th>10168</th>\n",
       "      <td>Having seen only once and in the dawn hours, I can't seem to forget this haunting film. A mix of mystery, suspense, and heartbreaking romance it reminds me of Vertigo.The actors, though not that well known are good especially Joan Hackett in one of her best performances.You believe in her, in he...</td>\n",
       "      <td>1</td>\n",
       "    </tr>\n",
       "  </tbody>\n",
       "</table>\n",
       "</div>"
      ],
      "text/plain": [
       "                                                                                                                                                                                                                                                                                                            review  \\\n",
       "2139   This movie did attempt to capture the naive idealism that many young teenaged girls have for fun, friendship, escape, danger, sex, maturity, etc. The problem was that it failed to establish these things on every single level; which is why it failed to build a decent story around them. I couldn't...   \n",
       "7454   The Earth is destined to be no more thanks to Father Pergado and a bunch of Nuns. Christopher Lee (who has since said that he was duped in to appearing in this by his producers who told him loads of great actors were involved) is Father Pergado and gets to do his usual serious and scary routine....   \n",
       "8157   I didn't see this movie when it originally came out, but there has been a couple songs sharing the title and the term still gets used from time to time and I figured there must be something to the flick, so I dug it up and gave a view. Now I would like the approximate hour and forty five minutes...   \n",
       "4435   I saw this film purely based on the fact that it was on the DPP Video Nasty list, and while I'm glad I saw it because it's now 'another Video Nasty down' - on its own merits, Andy Milligan's film really isn't worth bothering with. There are, of course, far worse films on the infamous list; but t...   \n",
       "10168  Having seen only once and in the dawn hours, I can't seem to forget this haunting film. A mix of mystery, suspense, and heartbreaking romance it reminds me of Vertigo.The actors, though not that well known are good especially Joan Hackett in one of her best performances.You believe in her, in he...   \n",
       "\n",
       "       label  \n",
       "2139       0  \n",
       "7454       0  \n",
       "8157       0  \n",
       "4435       0  \n",
       "10168      1  "
      ]
     },
     "execution_count": 84,
     "metadata": {},
     "output_type": "execute_result"
    }
   ],
   "source": [
    "import pandas as pd\n",
    "from sklearn.model_selection import train_test_split\n",
    "\n",
    "pd.set_option('display.max_colwidth', 300)  # Set how wide columns to show (to be able to see the reviews)\n",
    "\n",
    "imdb_df = pd.read_csv(\"imdb_speed.csv\")\n",
    "train_df, test_df = train_test_split(imdb_df, test_size=0.2, random_state=77)\n",
    "train_df.head()"
   ]
  },
  {
   "cell_type": "code",
   "execution_count": 85,
   "metadata": {},
   "outputs": [
    {
     "data": {
      "text/html": [
       "<div>\n",
       "<style scoped>\n",
       "    .dataframe tbody tr th:only-of-type {\n",
       "        vertical-align: middle;\n",
       "    }\n",
       "\n",
       "    .dataframe tbody tr th {\n",
       "        vertical-align: top;\n",
       "    }\n",
       "\n",
       "    .dataframe thead th {\n",
       "        text-align: right;\n",
       "    }\n",
       "</style>\n",
       "<table border=\"1\" class=\"dataframe\">\n",
       "  <thead>\n",
       "    <tr style=\"text-align: right;\">\n",
       "      <th></th>\n",
       "      <th>review</th>\n",
       "      <th>label</th>\n",
       "    </tr>\n",
       "  </thead>\n",
       "  <tbody>\n",
       "    <tr>\n",
       "      <th>8266</th>\n",
       "      <td>There are movies that are leaders, and movies that are followers.&lt;br /&gt;&lt;br /&gt;\"Meatballs\" was a leader. And here's one of its followers.&lt;br /&gt;&lt;br /&gt;\"Party Camp\" is about as interchangeable as any of its brethern who plumbed the depths that \"Meatballs\" (the original) had so successfully mined. Of ...</td>\n",
       "      <td>0</td>\n",
       "    </tr>\n",
       "    <tr>\n",
       "      <th>12987</th>\n",
       "      <td>This wonderful movie really takes the time to step back and tell the story without words. The end of the movie contains almost no dialogue but what is in the minds of the characters is always perfectly clear. You know the film is not going to have a happy ending but you leave the film feeling ho...</td>\n",
       "      <td>1</td>\n",
       "    </tr>\n",
       "    <tr>\n",
       "      <th>16016</th>\n",
       "      <td>Like The Jeffersons, Good Times was one of the those classic American sitcoms which was never aired in the UK, not to mention it came out in the 1970s- a decade where of which I wasn't born yet.&lt;br /&gt;&lt;br /&gt;But like most fans of the show, I watched a few episodes on You Tube- and afterwards, I lo...</td>\n",
       "      <td>1</td>\n",
       "    </tr>\n",
       "    <tr>\n",
       "      <th>16475</th>\n",
       "      <td>Michael Radford has done an excellent job bringing this difficult play to the screen. He has taken a play with a reputation for anti-semitism, and shown us that Shakespeare knew quite well the humanity of the Jews. Radford said after the screening, and I agree, that Shylock is his first tragic h...</td>\n",
       "      <td>1</td>\n",
       "    </tr>\n",
       "    <tr>\n",
       "      <th>6277</th>\n",
       "      <td>Producers Golan and Globus should have been ashamed to release this piece of trash publicly. I know this is gonna sound cliched, but compared to this, the first \"Hercules\" of 1983 looks like a mature and exciting epic! This \"sequel\" is moronic, cheap, unredeemable, childish, phony, inept and BAD...</td>\n",
       "      <td>0</td>\n",
       "    </tr>\n",
       "  </tbody>\n",
       "</table>\n",
       "</div>"
      ],
      "text/plain": [
       "                                                                                                                                                                                                                                                                                                            review  \\\n",
       "8266   There are movies that are leaders, and movies that are followers.<br /><br />\"Meatballs\" was a leader. And here's one of its followers.<br /><br />\"Party Camp\" is about as interchangeable as any of its brethern who plumbed the depths that \"Meatballs\" (the original) had so successfully mined. Of ...   \n",
       "12987  This wonderful movie really takes the time to step back and tell the story without words. The end of the movie contains almost no dialogue but what is in the minds of the characters is always perfectly clear. You know the film is not going to have a happy ending but you leave the film feeling ho...   \n",
       "16016  Like The Jeffersons, Good Times was one of the those classic American sitcoms which was never aired in the UK, not to mention it came out in the 1970s- a decade where of which I wasn't born yet.<br /><br />But like most fans of the show, I watched a few episodes on You Tube- and afterwards, I lo...   \n",
       "16475  Michael Radford has done an excellent job bringing this difficult play to the screen. He has taken a play with a reputation for anti-semitism, and shown us that Shakespeare knew quite well the humanity of the Jews. Radford said after the screening, and I agree, that Shylock is his first tragic h...   \n",
       "6277   Producers Golan and Globus should have been ashamed to release this piece of trash publicly. I know this is gonna sound cliched, but compared to this, the first \"Hercules\" of 1983 looks like a mature and exciting epic! This \"sequel\" is moronic, cheap, unredeemable, childish, phony, inept and BAD...   \n",
       "\n",
       "       label  \n",
       "8266       0  \n",
       "12987      1  \n",
       "16016      1  \n",
       "16475      1  \n",
       "6277       0  "
      ]
     },
     "execution_count": 85,
     "metadata": {},
     "output_type": "execute_result"
    }
   ],
   "source": [
    "test_df.head()"
   ]
  },
  {
   "cell_type": "markdown",
   "metadata": {},
   "source": [
    "### 2.1 Feature and target objects \n",
    "rubric={accuracy:2}\n",
    "\n",
    "<div class=\"alert alert-info\" style=\"color:black\">\n",
    "    \n",
    "Separate our feature vectors from the target.\n",
    "\n",
    "You will need to do this for both `train_df` and `test_df`.\n",
    "\n",
    "Save the results in objects named `X_train`, `y_train`, `X_test` and `y_test`. \n",
    "\n",
    "(Makes sure that all 4 of these objects are of type Pandas Series. We will be using `CountVectorizer` for future questions and this transformation requires an input of Pandas Series)\n",
    "    \n",
    "</div>"
   ]
  },
  {
   "cell_type": "code",
   "execution_count": 86,
   "metadata": {},
   "outputs": [],
   "source": [
    "X_train = train_df.review\n",
    "y_train = train_df.label\n",
    "X_test= test_df.review\n",
    "y_test = test_df.label"
   ]
  },
  {
   "cell_type": "markdown",
   "metadata": {},
   "source": [
    "### 2.2 Baseline Model Dummy classifier\n",
    "rubric={accuracy:3}\n",
    "\n",
    "<div class=\"alert alert-info\" style=\"color:black\">\n",
    "    \n",
    "Make a baseline model using `DummyClassifier`.\n",
    "\n",
    "Carry out cross-validation using the `stratified` strategy. Pass the following `scoring` metrics to `cross_validate`. \n",
    "- accuracy\n",
    "- f1\n",
    "- recall\n",
    "- precision\n",
    "\n",
    "(We are using cross-validation here since we can obtain multiple scores at once) \n",
    "\n",
    "Make sure you use  `return_train_score=True` and 5-fold cross-validation.\n",
    "\n",
    "Save your results in a dataframe named `dummy_scores_df`. \n",
    "    \n",
    "</div>"
   ]
  },
  {
   "cell_type": "code",
   "execution_count": 87,
   "metadata": {
    "nbgrader": {
     "grade": false,
     "grade_id": "cell-03b5ef93dd1fc50d",
     "locked": false,
     "schema_version": 3,
     "solution": true,
     "task": false
    }
   },
   "outputs": [
    {
     "data": {
      "text/html": [
       "<div>\n",
       "<style scoped>\n",
       "    .dataframe tbody tr th:only-of-type {\n",
       "        vertical-align: middle;\n",
       "    }\n",
       "\n",
       "    .dataframe tbody tr th {\n",
       "        vertical-align: top;\n",
       "    }\n",
       "\n",
       "    .dataframe thead th {\n",
       "        text-align: right;\n",
       "    }\n",
       "</style>\n",
       "<table border=\"1\" class=\"dataframe\">\n",
       "  <thead>\n",
       "    <tr style=\"text-align: right;\">\n",
       "      <th></th>\n",
       "      <th>fit_time</th>\n",
       "      <th>score_time</th>\n",
       "      <th>test_accuracy</th>\n",
       "      <th>train_accuracy</th>\n",
       "      <th>test_f1</th>\n",
       "      <th>train_f1</th>\n",
       "      <th>test_recall</th>\n",
       "      <th>train_recall</th>\n",
       "      <th>test_precision</th>\n",
       "      <th>train_precision</th>\n",
       "    </tr>\n",
       "  </thead>\n",
       "  <tbody>\n",
       "    <tr>\n",
       "      <th>0</th>\n",
       "      <td>0.006983</td>\n",
       "      <td>0.018008</td>\n",
       "      <td>0.505625</td>\n",
       "      <td>0.508203</td>\n",
       "      <td>0.515319</td>\n",
       "      <td>0.501386</td>\n",
       "      <td>0.528266</td>\n",
       "      <td>0.496938</td>\n",
       "      <td>0.502990</td>\n",
       "      <td>0.505914</td>\n",
       "    </tr>\n",
       "    <tr>\n",
       "      <th>1</th>\n",
       "      <td>0.003982</td>\n",
       "      <td>0.012006</td>\n",
       "      <td>0.498125</td>\n",
       "      <td>0.499141</td>\n",
       "      <td>0.490805</td>\n",
       "      <td>0.496663</td>\n",
       "      <td>0.486181</td>\n",
       "      <td>0.496624</td>\n",
       "      <td>0.495519</td>\n",
       "      <td>0.496702</td>\n",
       "    </tr>\n",
       "    <tr>\n",
       "      <th>2</th>\n",
       "      <td>0.003000</td>\n",
       "      <td>0.013002</td>\n",
       "      <td>0.508125</td>\n",
       "      <td>0.497812</td>\n",
       "      <td>0.510268</td>\n",
       "      <td>0.495289</td>\n",
       "      <td>0.515075</td>\n",
       "      <td>0.495211</td>\n",
       "      <td>0.505549</td>\n",
       "      <td>0.495367</td>\n",
       "    </tr>\n",
       "    <tr>\n",
       "      <th>3</th>\n",
       "      <td>0.003001</td>\n",
       "      <td>0.017002</td>\n",
       "      <td>0.480625</td>\n",
       "      <td>0.503047</td>\n",
       "      <td>0.490809</td>\n",
       "      <td>0.500039</td>\n",
       "      <td>0.503141</td>\n",
       "      <td>0.499450</td>\n",
       "      <td>0.479067</td>\n",
       "      <td>0.500630</td>\n",
       "    </tr>\n",
       "    <tr>\n",
       "      <th>4</th>\n",
       "      <td>0.008002</td>\n",
       "      <td>0.015007</td>\n",
       "      <td>0.509062</td>\n",
       "      <td>0.500625</td>\n",
       "      <td>0.517061</td>\n",
       "      <td>0.497484</td>\n",
       "      <td>0.527935</td>\n",
       "      <td>0.496859</td>\n",
       "      <td>0.506627</td>\n",
       "      <td>0.498111</td>\n",
       "    </tr>\n",
       "  </tbody>\n",
       "</table>\n",
       "</div>"
      ],
      "text/plain": [
       "   fit_time  score_time  test_accuracy  train_accuracy   test_f1  train_f1  \\\n",
       "0  0.006983    0.018008       0.505625        0.508203  0.515319  0.501386   \n",
       "1  0.003982    0.012006       0.498125        0.499141  0.490805  0.496663   \n",
       "2  0.003000    0.013002       0.508125        0.497812  0.510268  0.495289   \n",
       "3  0.003001    0.017002       0.480625        0.503047  0.490809  0.500039   \n",
       "4  0.008002    0.015007       0.509062        0.500625  0.517061  0.497484   \n",
       "\n",
       "   test_recall  train_recall  test_precision  train_precision  \n",
       "0     0.528266      0.496938        0.502990         0.505914  \n",
       "1     0.486181      0.496624        0.495519         0.496702  \n",
       "2     0.515075      0.495211        0.505549         0.495367  \n",
       "3     0.503141      0.499450        0.479067         0.500630  \n",
       "4     0.527935      0.496859        0.506627         0.498111  "
      ]
     },
     "execution_count": 87,
     "metadata": {},
     "output_type": "execute_result"
    }
   ],
   "source": [
    "from sklearn.dummy import DummyClassifier\n",
    "from sklearn.model_selection import cross_validate \n",
    "from sklearn.model_selection import cross_validate, train_test_split\n",
    "\n",
    "dummy_clf = DummyClassifier(strategy=\"stratified\") \n",
    "\n",
    "dummy_scores = cross_validate(dummy_clf,X_train, y_train,cv=5,scoring=['accuracy','f1','recall','precision'],return_train_score=True)\n",
    "dummy_scores_df = pd.DataFrame(dummy_scores)\n",
    "dummy_scores_df"
   ]
  },
  {
   "cell_type": "markdown",
   "metadata": {},
   "source": [
    "### 2.3 Dummy classifier mean\n",
    "rubric={accuracy:1}\n",
    "\n",
    "<div class=\"alert alert-info\" style=\"color:black\">\n",
    "    \n",
    "What is the mean of each column in `dummy_scores_df`?\n",
    "\n",
    "Save your result in an object named `dummy_mean`. \n",
    "    \n",
    "</div>"
   ]
  },
  {
   "cell_type": "code",
   "execution_count": 88,
   "metadata": {
    "nbgrader": {
     "grade": true,
     "grade_id": "cell-e4826f2524485549",
     "locked": false,
     "points": 1,
     "schema_version": 3,
     "solution": true,
     "task": false
    }
   },
   "outputs": [
    {
     "data": {
      "text/plain": [
       "fit_time           0.004993\n",
       "score_time         0.015005\n",
       "test_accuracy      0.500312\n",
       "train_accuracy     0.501766\n",
       "test_f1            0.504852\n",
       "train_f1           0.498172\n",
       "test_recall        0.512120\n",
       "train_recall       0.497017\n",
       "test_precision     0.497950\n",
       "train_precision    0.499345\n",
       "dtype: float64"
      ]
     },
     "execution_count": 88,
     "metadata": {},
     "output_type": "execute_result"
    }
   ],
   "source": [
    "dummy_mean = dummy_scores_df.mean()\n",
    "\n",
    "dummy_mean"
   ]
  },
  {
   "cell_type": "markdown",
   "metadata": {},
   "source": [
    "### 2.4 Pipeline\n",
    "rubric={accuracy:2}\n",
    "\n",
    "<div class=\"alert alert-info\" style=\"color:black\">\n",
    "    \n",
    "Let's make a pipeline now. \n",
    "\n",
    "Since we only have 1 column to preprocess, we only need 1 main pipeline for this question. \n",
    "\n",
    "Create a pipeline with 2 steps, one for `CountVectorizer` and one with a `LogisticRegression` model. For the LogisticRegression model, it's a good idea to set the argument `max_iter=5000` to avoid any warnings and convergence issues. Also let's balance the classes in our splits by setting the appropriate argument in `LogisticRegression` (read its docstring to find out how to achieve this). \n",
    "    \n",
    "</div>"
   ]
  },
  {
   "cell_type": "code",
   "execution_count": 89,
   "metadata": {},
   "outputs": [
    {
     "data": {
      "text/plain": [
       "Pipeline(steps=[('countvectorizer', CountVectorizer()),\n",
       "                ('logisticregression',\n",
       "                 LogisticRegression(class_weight='balanced', max_iter=5000))])"
      ]
     },
     "execution_count": 89,
     "metadata": {},
     "output_type": "execute_result"
    }
   ],
   "source": [
    "from sklearn.linear_model import LogisticRegression\n",
    "from sklearn.pipeline import make_pipeline\n",
    "from sklearn.impute import SimpleImputer\n",
    "from sklearn.preprocessing import StandardScaler\n",
    "from sklearn.feature_extraction.text import CountVectorizer\n",
    "pipe = make_pipeline(\n",
    "    CountVectorizer(),\n",
    "    LogisticRegression(max_iter=5000,class_weight='balanced')\n",
    ")\n",
    "pipe"
   ]
  },
  {
   "cell_type": "markdown",
   "metadata": {},
   "source": [
    "### 2.5 Hyperparameter optimization\n",
    "rubric={accuracy:4}\n",
    "\n",
    "<div class=\"alert alert-info\" style=\"color:black\">\n",
    "    \n",
    "Perform hyperparameter turning using a random search of 10 hyperparameter combinations.\n",
    "We have provided the `params_grid`,\n",
    "which contains a distribution of each parameter using scipy distribution functions.\n",
    "In the interest of time,\n",
    "you can limit your cross-validation of the hyperparameter combinations to 3-fold\n",
    "and set the computation to run in parallel using `n_jobs`.\n",
    "Also, use verbose output and return the training score.\n",
    "Instead of the default scoring metric,\n",
    "use the f1 score.\n",
    "\n",
    "Finally,\n",
    "make sure to fit your model on the entire training dataset. \n",
    "\n",
    "This can take a few minutes so please be patient.\n",
    "    \n",
    "</div>"
   ]
  },
  {
   "cell_type": "code",
   "execution_count": 90,
   "metadata": {
    "nbgrader": {
     "grade": true,
     "grade_id": "cell-907dab64153f296f",
     "locked": false,
     "points": 4,
     "schema_version": 3,
     "solution": true,
     "task": false
    }
   },
   "outputs": [],
   "source": [
    "from sklearn.model_selection import RandomizedSearchCV\n",
    "from scipy.stats import loguniform, randint\n",
    "\n",
    "param_grid = {\n",
    "    \"countvectorizer__max_features\": randint(10, 10000),\n",
    "    \"logisticregression__C\": loguniform(0.01, 100),\n",
    "}\n",
    "\n",
    "rdm_search = RandomizedSearchCV(pipe, param_grid, cv=3, return_train_score=True, verbose=2, n_jobs=2,scoring='f1')"
   ]
  },
  {
   "cell_type": "code",
   "execution_count": 91,
   "metadata": {
    "nbgrader": {
     "grade": true,
     "grade_id": "cell-907dab64153f296f",
     "locked": false,
     "points": 4,
     "schema_version": 3,
     "solution": true,
     "task": false
    }
   },
   "outputs": [
    {
     "name": "stdout",
     "output_type": "stream",
     "text": [
      "Fitting 3 folds for each of 10 candidates, totalling 30 fits\n"
     ]
    },
    {
     "data": {
      "text/plain": [
       "RandomizedSearchCV(cv=3,\n",
       "                   estimator=Pipeline(steps=[('countvectorizer',\n",
       "                                              CountVectorizer()),\n",
       "                                             ('logisticregression',\n",
       "                                              LogisticRegression(class_weight='balanced',\n",
       "                                                                 max_iter=5000))]),\n",
       "                   n_jobs=2,\n",
       "                   param_distributions={'countvectorizer__max_features': <scipy.stats._distn_infrastructure.rv_frozen object at 0x0000020C544762B0>,\n",
       "                                        'logisticregression__C': <scipy.stats._distn_infrastructure.rv_frozen object at 0x0000020C54476940>},\n",
       "                   return_train_score=True, scoring='f1', verbose=2)"
      ]
     },
     "execution_count": 91,
     "metadata": {},
     "output_type": "execute_result"
    }
   ],
   "source": [
    "rdm_search.fit(X_train, y_train)\n",
    "\n",
    "rdm_search"
   ]
  },
  {
   "cell_type": "markdown",
   "metadata": {},
   "source": [
    "### 2.6  Best hyperparameters\n",
    "rubric={accuracy:2}\n",
    "\n",
    "<div class=\"alert alert-info\" style=\"color:black\">\n",
    "    \n",
    "What are the best hyperparameter values found by `RandomizedSearchCV` for `C` and `max_features`. \n",
    "What was the corresponding validation score? Output these values either in separate cells or by printing all of them from a single cell (but we need to see all to be able to grade).\n",
    "    \n",
    "</div>"
   ]
  },
  {
   "cell_type": "code",
   "execution_count": 92,
   "metadata": {
    "nbgrader": {
     "grade": true,
     "grade_id": "cell-735fc79f5b175920",
     "locked": false,
     "points": 2,
     "schema_version": 3,
     "solution": true,
     "task": false
    }
   },
   "outputs": [],
   "source": [
    "optimal_parameters = rdm_search.best_params_\n",
    "optimal_score = rdm_search.best_score_"
   ]
  },
  {
   "cell_type": "code",
   "execution_count": 93,
   "metadata": {},
   "outputs": [
    {
     "data": {
      "text/plain": [
       "{'countvectorizer__max_features': 8854,\n",
       " 'logisticregression__C': 0.023474251446745}"
      ]
     },
     "execution_count": 93,
     "metadata": {},
     "output_type": "execute_result"
    }
   ],
   "source": [
    "optimal_parameters"
   ]
  },
  {
   "cell_type": "code",
   "execution_count": 94,
   "metadata": {},
   "outputs": [
    {
     "data": {
      "text/plain": [
       "0.8742861874017511"
      ]
     },
     "execution_count": 94,
     "metadata": {},
     "output_type": "execute_result"
    }
   ],
   "source": [
    "optimal_score"
   ]
  },
  {
   "cell_type": "markdown",
   "metadata": {},
   "source": [
    "### 2.7 Hyperparameters and the fundamental tradeoff\n",
    "rubric={reasoning:3}\n",
    "\n",
    "<div class=\"alert alert-info\" style=\"color:black\">\n",
    "    \n",
    "Write 2-3 sentences each on the two questions below,\n",
    "You can add code if needed or use information from previously executed cells\n",
    "if you deem that to be sufficient.\n",
    "\n",
    "1. From the set of possible models in the search, did your search return a relatively simple CountVectorizer or a relatively complex one?\n",
    "2. Did it return a relatively simple LogisticRegression or a relatively complex one? Here ‘simple’ and ‘complex’ we mean with respect to the fundamental tradeoff.\n",
    "    \n",
    "</div>\n"
   ]
  },
  {
   "cell_type": "markdown",
   "metadata": {},
   "source": [
    "YOUR ANSWER HERE\n",
    "\n",
    "\n",
    "Answer:\n",
    "1:countvectorizer feature is pretty complex.\n",
    "2.simple."
   ]
  },
  {
   "cell_type": "markdown",
   "metadata": {},
   "source": [
    "### 2.8 Train and test scores of best scoring model\n",
    "rubric={accuracy:2}\n",
    "\n"
   ]
  },
  {
   "cell_type": "code",
   "execution_count": 10,
   "metadata": {},
   "outputs": [
    {
     "data": {
      "text/plain": [
       "{'fit_time': array([8.47026372, 8.19454575, 8.29421401, 7.93672538, 8.02855253]),\n",
       " 'score_time': array([0.70857406, 0.51759315, 0.7861774 , 0.72916484, 0.50411344]),\n",
       " 'test_score': array([0.87089716, 0.88108441, 0.87535145, 0.87336245, 0.8795746 ]),\n",
       " 'train_score': array([0.95050742, 0.94959756, 0.95013656, 0.94913403, 0.94875801])}"
      ]
     },
     "execution_count": 10,
     "metadata": {},
     "output_type": "execute_result"
    }
   ],
   "source": [
    "pipe_best = make_pipeline(\n",
    "    CountVectorizer(max_features=6493),\n",
    "    LogisticRegression(C=0.04571917970323185,max_iter=5000,class_weight='balanced')\n",
    ")\n",
    "f1_score = cross_validate(pipe_best,X_train, y_train,cv=5,scoring='f1',return_train_score=True)\n",
    "f1_score"
   ]
  },
  {
   "cell_type": "code",
   "execution_count": 96,
   "metadata": {},
   "outputs": [
    {
     "name": "stdout",
     "output_type": "stream",
     "text": [
      "0.8760540132438079 0.9496267147122843\n"
     ]
    }
   ],
   "source": [
    "f1_best_test = f1_score['test_score'].mean()\n",
    "f1_best_train = f1_score['train_score'].mean()\n",
    "print(f1_best_test,f1_best_train)"
   ]
  },
  {
   "cell_type": "markdown",
   "metadata": {},
   "source": [
    "### 2.9 Confusion matrix\n",
    "rubric={accuracy:2}\n",
    "\n",
    "<div class=\"alert alert-info\" style=\"color:black\">\n",
    "    \n",
    "Plot a confusion matrix on the test set using your random search object as your estimator.\n",
    "Use the `display_labels` parameter so that it's easier to recognized which class is a positive review and which is negative. \n",
    "\n",
    "</div>"
   ]
  },
  {
   "cell_type": "code",
   "execution_count": 98,
   "metadata": {},
   "outputs": [
    {
     "data": {
      "text/plain": [
       "array([[1695,  266],\n",
       "       [ 223, 1816]], dtype=int64)"
      ]
     },
     "execution_count": 98,
     "metadata": {},
     "output_type": "execute_result"
    }
   ],
   "source": [
    "from sklearn.metrics import confusion_matrix\n",
    "\n",
    "\n",
    "pipe_best.fit(X_train, y_train)\n",
    "predictions = pipe_best.predict(X_test)\n",
    "cm = confusion_matrix(y_test, predictions)\n",
    "cm"
   ]
  },
  {
   "cell_type": "code",
   "execution_count": 99,
   "metadata": {},
   "outputs": [
    {
     "data": {
      "image/png": "[encoded data removed]",
      "text/plain": [
       "<Figure size 432x288 with 2 Axes>"
      ]
     },
     "metadata": {
      "needs_background": "light"
     },
     "output_type": "display_data"
    }
   ],
   "source": [
    "from sklearn.metrics import confusion_matrix, ConfusionMatrixDisplay\n",
    "\n",
    "disp = ConfusionMatrixDisplay(confusion_matrix=cm,display_labels=pipe_best.classes_)\n",
    "disp.plot()\n",
    "plt.show()"
   ]
  },
  {
   "cell_type": "markdown",
   "metadata": {},
   "source": [
    "### 2.10 Classification report\n",
    "rubric={accuracy:3}\n",
    "\n",
    "<div class=\"alert alert-info\" style=\"color:black\">\n",
    "    \n",
    "Print a classification report on the `X_test` predictions of your random search object's best model with measurements to 4 decimal places. Use this information to answer the questions:\n",
    "\n",
    "1. What is the recall if we classify `1` as our \"positive\" class? \n",
    "2. What is the precision weighted average? Save the result to 4 decimal places. \n",
    "3. What is the `f1` score using `1` as your positive class?\n",
    "4. Comment on the overall model performance in the context of what we used as input features.\n",
    "    \n",
    "</div>"
   ]
  },
  {
   "cell_type": "code",
   "execution_count": 100,
   "metadata": {},
   "outputs": [
    {
     "name": "stdout",
     "output_type": "stream",
     "text": [
      "              precision    recall  f1-score   support\n",
      "\n",
      "    Positive     0.8837    0.8644    0.8739      1961\n",
      "    Negative     0.8722    0.8906    0.8813      2039\n",
      "\n",
      "    accuracy                         0.8777      4000\n",
      "   macro avg     0.8780    0.8775    0.8776      4000\n",
      "weighted avg     0.8779    0.8778    0.8777      4000\n",
      "\n"
     ]
    }
   ],
   "source": [
    "from sklearn.metrics import classification_report\n",
    "print(\n",
    "    classification_report(\n",
    "        y_test,\n",
    "        pipe_best.predict(X_test),\n",
    "        target_names=[\"Positive\", \"Negative\"],\n",
    "        digits=4\n",
    "    )\n",
    ")"
   ]
  },
  {
   "cell_type": "code",
   "execution_count": 101,
   "metadata": {},
   "outputs": [
    {
     "name": "stdout",
     "output_type": "stream",
     "text": [
      "              precision    recall  f1-score   support\n",
      "\n",
      "    Negative     0.8837    0.8644    0.8739      1961\n",
      "    Positive     0.8722    0.8906    0.8813      2039\n",
      "\n",
      "    accuracy                         0.8777      4000\n",
      "   macro avg     0.8780    0.8775    0.8776      4000\n",
      "weighted avg     0.8779    0.8778    0.8777      4000\n",
      "\n"
     ]
    }
   ],
   "source": [
    "\n",
    "from sklearn.metrics import classification_report\n",
    "print(\n",
    "    classification_report(\n",
    "        y_test,\n",
    "        pipe_best.predict(X_test),\n",
    "        target_names=[\"Negative\",\"Positive\"],\n",
    "        digits=4\n",
    "    )\n",
    ")"
   ]
  },
  {
   "cell_type": "markdown",
   "metadata": {},
   "source": [
    "YOUR ANSWER HERE\n",
    "\n",
    "1.0.8906\n",
    "\n",
    "2.0.8742\n",
    "\n",
    "3.\n",
    "\n",
    "4."
   ]
  },
  {
   "cell_type": "markdown",
   "metadata": {
    "slideshow": {
     "slide_type": "slide"
    }
   },
   "source": [
    "## Exercise 3: Model Interpretation <a name=\"4\"></a>\n",
    "<hr>\n",
    "\n",
    "One of the primary advantage of linear models is their ability to interpret models in terms of important features. In this exercise, we'll explore the weights learned by logistic regression classifier.\n",
    "\n",
    "Below we've create a dataframe that contains the words used in our optimal model along with their coefficients (if you named your `RandomizedSearchCV` object in question 2.5 something else than `random_search`, change the code below accordingly)."
   ]
  },
  {
   "cell_type": "code",
   "execution_count": 102,
   "metadata": {},
   "outputs": [
    {
     "data": {
      "text/html": [
       "<div>\n",
       "<style scoped>\n",
       "    .dataframe tbody tr th:only-of-type {\n",
       "        vertical-align: middle;\n",
       "    }\n",
       "\n",
       "    .dataframe tbody tr th {\n",
       "        vertical-align: top;\n",
       "    }\n",
       "\n",
       "    .dataframe thead th {\n",
       "        text-align: right;\n",
       "    }\n",
       "</style>\n",
       "<table border=\"1\" class=\"dataframe\">\n",
       "  <thead>\n",
       "    <tr style=\"text-align: right;\">\n",
       "      <th></th>\n",
       "      <th>words</th>\n",
       "      <th>coefficient</th>\n",
       "    </tr>\n",
       "  </thead>\n",
       "  <tbody>\n",
       "    <tr>\n",
       "      <th>0</th>\n",
       "      <td>00</td>\n",
       "      <td>-0.057408</td>\n",
       "    </tr>\n",
       "    <tr>\n",
       "      <th>1</th>\n",
       "      <td>000</td>\n",
       "      <td>0.002370</td>\n",
       "    </tr>\n",
       "    <tr>\n",
       "      <th>2</th>\n",
       "      <td>007</td>\n",
       "      <td>0.021275</td>\n",
       "    </tr>\n",
       "    <tr>\n",
       "      <th>3</th>\n",
       "      <td>10</td>\n",
       "      <td>0.096648</td>\n",
       "    </tr>\n",
       "    <tr>\n",
       "      <th>4</th>\n",
       "      <td>100</td>\n",
       "      <td>0.150285</td>\n",
       "    </tr>\n",
       "    <tr>\n",
       "      <th>...</th>\n",
       "      <td>...</td>\n",
       "      <td>...</td>\n",
       "    </tr>\n",
       "    <tr>\n",
       "      <th>8849</th>\n",
       "      <td>zombie</td>\n",
       "      <td>-0.094338</td>\n",
       "    </tr>\n",
       "    <tr>\n",
       "      <th>8850</th>\n",
       "      <td>zombies</td>\n",
       "      <td>-0.141803</td>\n",
       "    </tr>\n",
       "    <tr>\n",
       "      <th>8851</th>\n",
       "      <td>zone</td>\n",
       "      <td>-0.052430</td>\n",
       "    </tr>\n",
       "    <tr>\n",
       "      <th>8852</th>\n",
       "      <td>zoom</td>\n",
       "      <td>-0.002202</td>\n",
       "    </tr>\n",
       "    <tr>\n",
       "      <th>8853</th>\n",
       "      <td>zucco</td>\n",
       "      <td>-0.069264</td>\n",
       "    </tr>\n",
       "  </tbody>\n",
       "</table>\n",
       "<p>8854 rows × 2 columns</p>\n",
       "</div>"
      ],
      "text/plain": [
       "        words  coefficient\n",
       "0          00    -0.057408\n",
       "1         000     0.002370\n",
       "2         007     0.021275\n",
       "3          10     0.096648\n",
       "4         100     0.150285\n",
       "...       ...          ...\n",
       "8849   zombie    -0.094338\n",
       "8850  zombies    -0.141803\n",
       "8851     zone    -0.052430\n",
       "8852     zoom    -0.002202\n",
       "8853    zucco    -0.069264\n",
       "\n",
       "[8854 rows x 2 columns]"
      ]
     },
     "execution_count": 102,
     "metadata": {},
     "output_type": "execute_result"
    }
   ],
   "source": [
    "best_estimator = rdm_search.best_estimator_\n",
    "\n",
    "coef_df = pd.DataFrame({\n",
    "    'words': best_estimator[ \"countvectorizer\"].get_feature_names(),\n",
    "    'coefficient': best_estimator[\"logisticregression\"].coef_[0]\n",
    "})\n",
    "\n",
    "coef_df"
   ]
  },
  {
   "cell_type": "markdown",
   "metadata": {},
   "source": [
    "### 3.1 Get the most informative positive words\n",
    "rubric={accuracy:1, reasoning:1}\n",
    "\n",
    "<div class=\"alert alert-info\" style=\"color:black\">\n",
    "    \n",
    "Using the dataframe `coef_df` above, find the 10 words that are most indicative of a positive review.\n",
    "\n",
    "Elaborate on the positive words here - Do they make sense with their target value?\n",
    "    \n",
    "</div>"
   ]
  },
  {
   "cell_type": "code",
   "execution_count": 103,
   "metadata": {},
   "outputs": [
    {
     "data": {
      "text/html": [
       "<div>\n",
       "<style scoped>\n",
       "    .dataframe tbody tr th:only-of-type {\n",
       "        vertical-align: middle;\n",
       "    }\n",
       "\n",
       "    .dataframe tbody tr th {\n",
       "        vertical-align: top;\n",
       "    }\n",
       "\n",
       "    .dataframe thead th {\n",
       "        text-align: right;\n",
       "    }\n",
       "</style>\n",
       "<table border=\"1\" class=\"dataframe\">\n",
       "  <thead>\n",
       "    <tr style=\"text-align: right;\">\n",
       "      <th></th>\n",
       "      <th>words</th>\n",
       "      <th>coefficient</th>\n",
       "    </tr>\n",
       "  </thead>\n",
       "  <tbody>\n",
       "    <tr>\n",
       "      <th>2822</th>\n",
       "      <td>excellent</td>\n",
       "      <td>0.610730</td>\n",
       "    </tr>\n",
       "    <tr>\n",
       "      <th>5796</th>\n",
       "      <td>perfect</td>\n",
       "      <td>0.584676</td>\n",
       "    </tr>\n",
       "    <tr>\n",
       "      <th>3531</th>\n",
       "      <td>great</td>\n",
       "      <td>0.502104</td>\n",
       "    </tr>\n",
       "    <tr>\n",
       "      <th>386</th>\n",
       "      <td>amazing</td>\n",
       "      <td>0.473496</td>\n",
       "    </tr>\n",
       "    <tr>\n",
       "      <th>3795</th>\n",
       "      <td>hilarious</td>\n",
       "      <td>0.465326</td>\n",
       "    </tr>\n",
       "    <tr>\n",
       "      <th>1071</th>\n",
       "      <td>brilliant</td>\n",
       "      <td>0.456339</td>\n",
       "    </tr>\n",
       "    <tr>\n",
       "      <th>3000</th>\n",
       "      <td>favorite</td>\n",
       "      <td>0.431286</td>\n",
       "    </tr>\n",
       "    <tr>\n",
       "      <th>8741</th>\n",
       "      <td>wonderful</td>\n",
       "      <td>0.431033</td>\n",
       "    </tr>\n",
       "    <tr>\n",
       "      <th>2703</th>\n",
       "      <td>enjoyed</td>\n",
       "      <td>0.426925</td>\n",
       "    </tr>\n",
       "    <tr>\n",
       "      <th>3302</th>\n",
       "      <td>fun</td>\n",
       "      <td>0.423324</td>\n",
       "    </tr>\n",
       "  </tbody>\n",
       "</table>\n",
       "</div>"
      ],
      "text/plain": [
       "          words  coefficient\n",
       "2822  excellent     0.610730\n",
       "5796    perfect     0.584676\n",
       "3531      great     0.502104\n",
       "386     amazing     0.473496\n",
       "3795  hilarious     0.465326\n",
       "1071  brilliant     0.456339\n",
       "3000   favorite     0.431286\n",
       "8741  wonderful     0.431033\n",
       "2703    enjoyed     0.426925\n",
       "3302        fun     0.423324"
      ]
     },
     "execution_count": 103,
     "metadata": {},
     "output_type": "execute_result"
    }
   ],
   "source": [
    "coef_df.sort_values(['coefficient'],ascending=False).head(10)"
   ]
  },
  {
   "cell_type": "markdown",
   "metadata": {},
   "source": [
    "### 3.2 Get the most informative negative words\n",
    "rubric={accuracy:1, reasoning:1}\n",
    "\n",
    "<div class=\"alert alert-info\" style=\"color:black\">\n",
    "    \n",
    "Using the dataframe `coef_df` above, find the 10 words that are most indicative of a negative review.\n",
    "\n",
    "Elaborate on the negative words here - Do they make sense with their target value?\n",
    "    \n",
    "</div>"
   ]
  },
  {
   "cell_type": "code",
   "execution_count": 104,
   "metadata": {},
   "outputs": [
    {
     "data": {
      "text/html": [
       "<div>\n",
       "<style scoped>\n",
       "    .dataframe tbody tr th:only-of-type {\n",
       "        vertical-align: middle;\n",
       "    }\n",
       "\n",
       "    .dataframe tbody tr th {\n",
       "        vertical-align: top;\n",
       "    }\n",
       "\n",
       "    .dataframe thead th {\n",
       "        text-align: right;\n",
       "    }\n",
       "</style>\n",
       "<table border=\"1\" class=\"dataframe\">\n",
       "  <thead>\n",
       "    <tr style=\"text-align: right;\">\n",
       "      <th></th>\n",
       "      <th>words</th>\n",
       "      <th>coefficient</th>\n",
       "    </tr>\n",
       "  </thead>\n",
       "  <tbody>\n",
       "    <tr>\n",
       "      <th>8773</th>\n",
       "      <td>worst</td>\n",
       "      <td>-1.022002</td>\n",
       "    </tr>\n",
       "    <tr>\n",
       "      <th>8576</th>\n",
       "      <td>waste</td>\n",
       "      <td>-0.762254</td>\n",
       "    </tr>\n",
       "    <tr>\n",
       "      <th>677</th>\n",
       "      <td>awful</td>\n",
       "      <td>-0.707630</td>\n",
       "    </tr>\n",
       "    <tr>\n",
       "      <th>997</th>\n",
       "      <td>boring</td>\n",
       "      <td>-0.619609</td>\n",
       "    </tr>\n",
       "    <tr>\n",
       "      <th>7913</th>\n",
       "      <td>terrible</td>\n",
       "      <td>-0.574370</td>\n",
       "    </tr>\n",
       "    <tr>\n",
       "      <th>5965</th>\n",
       "      <td>poor</td>\n",
       "      <td>-0.571560</td>\n",
       "    </tr>\n",
       "    <tr>\n",
       "      <th>701</th>\n",
       "      <td>bad</td>\n",
       "      <td>-0.495204</td>\n",
       "    </tr>\n",
       "    <tr>\n",
       "      <th>8771</th>\n",
       "      <td>worse</td>\n",
       "      <td>-0.476869</td>\n",
       "    </tr>\n",
       "    <tr>\n",
       "      <th>2940</th>\n",
       "      <td>fails</td>\n",
       "      <td>-0.475019</td>\n",
       "    </tr>\n",
       "    <tr>\n",
       "      <th>2517</th>\n",
       "      <td>dull</td>\n",
       "      <td>-0.466648</td>\n",
       "    </tr>\n",
       "  </tbody>\n",
       "</table>\n",
       "</div>"
      ],
      "text/plain": [
       "         words  coefficient\n",
       "8773     worst    -1.022002\n",
       "8576     waste    -0.762254\n",
       "677      awful    -0.707630\n",
       "997     boring    -0.619609\n",
       "7913  terrible    -0.574370\n",
       "5965      poor    -0.571560\n",
       "701        bad    -0.495204\n",
       "8771     worse    -0.476869\n",
       "2940     fails    -0.475019\n",
       "2517      dull    -0.466648"
      ]
     },
     "execution_count": 104,
     "metadata": {},
     "output_type": "execute_result"
    }
   ],
   "source": [
    "coef_df.sort_values(['coefficient'],ascending=True).head(10)"
   ]
  },
  {
   "cell_type": "markdown",
   "metadata": {},
   "source": [
    "### 3.3 Explaining the coefficients?\n",
    "rubric={reasoning:2}\n",
    "\n",
    "<div class=\"alert alert-info\" style=\"color:black\">\n",
    "    \n",
    "Do the words associated with positive and negative reviews make sense? Why is it useful to get access to this information?\n",
    "    \n",
    "</div>"
   ]
  },
  {
   "cell_type": "markdown",
   "metadata": {},
   "source": [
    "YOUR ANSWER HERE\n",
    "\n",
    "Yes, it make sense because we identified positive text as 1 and negative as 0, because the model is built on the training data, so the positive coef reflects the positive sentiment."
   ]
  },
  {
   "cell_type": "markdown",
   "metadata": {},
   "source": [
    "### 3.4 Using `predict` vs `predict_proba`\n",
    "rubric={accuracy:3}\n",
    "\n",
    "<div class=\"alert alert-info\" style=\"color:black\">\n",
    "    \n",
    "Make a dataframe named `results_df` that contains these 5 columns: \n",
    "\n",
    "- `review` - this should contain the reviews from `X_test`.\n",
    "- `true_label` - This should contain the true `y_test` values. \n",
    "- `predicted_y` - The predicted labels generated from `best_model` for the `X_test` reviews using `.predict()`. \n",
    "- `neg_label_prob` - The probabilities of class `0` generated from `best_model` for the `X_test` reviews. These can be found at index 0 of the `predict_proba` output (you can get that using `[:,0]`). \n",
    "-  `pos_label_prob` - The probabilities of class `1` generated from `best_model` for the `X_test` reviews. These can be found at index 0 of the `predict_proba` output (you can get that using `[:,1]`). \n",
    "    \n",
    "</div>"
   ]
  },
  {
   "cell_type": "code",
   "execution_count": 105,
   "metadata": {},
   "outputs": [
    {
     "data": {
      "text/html": [
       "<div>\n",
       "<style scoped>\n",
       "    .dataframe tbody tr th:only-of-type {\n",
       "        vertical-align: middle;\n",
       "    }\n",
       "\n",
       "    .dataframe tbody tr th {\n",
       "        vertical-align: top;\n",
       "    }\n",
       "\n",
       "    .dataframe thead th {\n",
       "        text-align: right;\n",
       "    }\n",
       "</style>\n",
       "<table border=\"1\" class=\"dataframe\">\n",
       "  <thead>\n",
       "    <tr style=\"text-align: right;\">\n",
       "      <th></th>\n",
       "      <th>review</th>\n",
       "      <th>true_label</th>\n",
       "      <th>predicted_y</th>\n",
       "      <th>neg_label_prob</th>\n",
       "      <th>pos_label_prob</th>\n",
       "    </tr>\n",
       "  </thead>\n",
       "  <tbody>\n",
       "    <tr>\n",
       "      <th>8266</th>\n",
       "      <td>There are movies that are leaders, and movies that are followers.&lt;br /&gt;&lt;br /&gt;\"Meatballs\" was a leader. And here's one of its followers.&lt;br /&gt;&lt;br /&gt;\"Party Camp\" is about as interchangeable as any of its brethern who plumbed the depths that \"Meatballs\" (the original) had so successfully mined. Of ...</td>\n",
       "      <td>0</td>\n",
       "      <td>0</td>\n",
       "      <td>0.598160</td>\n",
       "      <td>0.401840</td>\n",
       "    </tr>\n",
       "    <tr>\n",
       "      <th>12987</th>\n",
       "      <td>This wonderful movie really takes the time to step back and tell the story without words. The end of the movie contains almost no dialogue but what is in the minds of the characters is always perfectly clear. You know the film is not going to have a happy ending but you leave the film feeling ho...</td>\n",
       "      <td>1</td>\n",
       "      <td>1</td>\n",
       "      <td>0.149451</td>\n",
       "      <td>0.850549</td>\n",
       "    </tr>\n",
       "    <tr>\n",
       "      <th>16016</th>\n",
       "      <td>Like The Jeffersons, Good Times was one of the those classic American sitcoms which was never aired in the UK, not to mention it came out in the 1970s- a decade where of which I wasn't born yet.&lt;br /&gt;&lt;br /&gt;But like most fans of the show, I watched a few episodes on You Tube- and afterwards, I lo...</td>\n",
       "      <td>1</td>\n",
       "      <td>1</td>\n",
       "      <td>0.000201</td>\n",
       "      <td>0.999799</td>\n",
       "    </tr>\n",
       "    <tr>\n",
       "      <th>16475</th>\n",
       "      <td>Michael Radford has done an excellent job bringing this difficult play to the screen. He has taken a play with a reputation for anti-semitism, and shown us that Shakespeare knew quite well the humanity of the Jews. Radford said after the screening, and I agree, that Shylock is his first tragic h...</td>\n",
       "      <td>1</td>\n",
       "      <td>1</td>\n",
       "      <td>0.000214</td>\n",
       "      <td>0.999786</td>\n",
       "    </tr>\n",
       "    <tr>\n",
       "      <th>6277</th>\n",
       "      <td>Producers Golan and Globus should have been ashamed to release this piece of trash publicly. I know this is gonna sound cliched, but compared to this, the first \"Hercules\" of 1983 looks like a mature and exciting epic! This \"sequel\" is moronic, cheap, unredeemable, childish, phony, inept and BAD...</td>\n",
       "      <td>0</td>\n",
       "      <td>0</td>\n",
       "      <td>0.887257</td>\n",
       "      <td>0.112743</td>\n",
       "    </tr>\n",
       "    <tr>\n",
       "      <th>...</th>\n",
       "      <td>...</td>\n",
       "      <td>...</td>\n",
       "      <td>...</td>\n",
       "      <td>...</td>\n",
       "      <td>...</td>\n",
       "    </tr>\n",
       "    <tr>\n",
       "      <th>13586</th>\n",
       "      <td>Well, this is new...Famous Italian horror director Lucio Fulci shoots a film about a famous Italian horror director called...Lucio Fulci. After years and years of witnessing gruesome horror sequences, it becomes hard for Lucio to separate reality from fiction and he often hallucinates about comm...</td>\n",
       "      <td>1</td>\n",
       "      <td>0</td>\n",
       "      <td>0.607903</td>\n",
       "      <td>0.392097</td>\n",
       "    </tr>\n",
       "    <tr>\n",
       "      <th>12216</th>\n",
       "      <td>For all the Homicide junkies out there, this movie was great! Every single character that ever was on the show made an appearance in the movie. It helped to resolve some (but not all) issues from the series. Unfortunately, unless you actually did watch the series, most of the enjoyment would be ...</td>\n",
       "      <td>1</td>\n",
       "      <td>0</td>\n",
       "      <td>0.731939</td>\n",
       "      <td>0.268061</td>\n",
       "    </tr>\n",
       "    <tr>\n",
       "      <th>14843</th>\n",
       "      <td>For me, North and South (Books I&amp;II) is the ultimate TV series of the 80's. Just spotting all those cameo appearances was highly entertaining.Gene Kelly, James Stewart, Elisabeth Taylor, Olivia De Havilland, Robert Mitchum, even Johny CashÂ¡ No series has come close to this achievement.Have you ...</td>\n",
       "      <td>1</td>\n",
       "      <td>1</td>\n",
       "      <td>0.010934</td>\n",
       "      <td>0.989066</td>\n",
       "    </tr>\n",
       "    <tr>\n",
       "      <th>4831</th>\n",
       "      <td>I would like to know who conned the producers of this movie to pay for its production - That persion is a genius of sorts. This movie somehow held my attention for about two thirds of it until I realized that it was going nowhere fast. I think the music managed to make it seem like something was...</td>\n",
       "      <td>0</td>\n",
       "      <td>0</td>\n",
       "      <td>0.966084</td>\n",
       "      <td>0.033916</td>\n",
       "    </tr>\n",
       "    <tr>\n",
       "      <th>10780</th>\n",
       "      <td>Melissa Joan Hart shines! This show is amazing!! There is no match. Except for maybe Melissa in Clarissa Explains it All. She was marvelous in that, too. This is SO much better than Buffy, the Vampire Slayer. This show is WONDERFUL!</td>\n",
       "      <td>1</td>\n",
       "      <td>1</td>\n",
       "      <td>0.334744</td>\n",
       "      <td>0.665256</td>\n",
       "    </tr>\n",
       "  </tbody>\n",
       "</table>\n",
       "<p>4000 rows × 5 columns</p>\n",
       "</div>"
      ],
      "text/plain": [
       "                                                                                                                                                                                                                                                                                                            review  \\\n",
       "8266   There are movies that are leaders, and movies that are followers.<br /><br />\"Meatballs\" was a leader. And here's one of its followers.<br /><br />\"Party Camp\" is about as interchangeable as any of its brethern who plumbed the depths that \"Meatballs\" (the original) had so successfully mined. Of ...   \n",
       "12987  This wonderful movie really takes the time to step back and tell the story without words. The end of the movie contains almost no dialogue but what is in the minds of the characters is always perfectly clear. You know the film is not going to have a happy ending but you leave the film feeling ho...   \n",
       "16016  Like The Jeffersons, Good Times was one of the those classic American sitcoms which was never aired in the UK, not to mention it came out in the 1970s- a decade where of which I wasn't born yet.<br /><br />But like most fans of the show, I watched a few episodes on You Tube- and afterwards, I lo...   \n",
       "16475  Michael Radford has done an excellent job bringing this difficult play to the screen. He has taken a play with a reputation for anti-semitism, and shown us that Shakespeare knew quite well the humanity of the Jews. Radford said after the screening, and I agree, that Shylock is his first tragic h...   \n",
       "6277   Producers Golan and Globus should have been ashamed to release this piece of trash publicly. I know this is gonna sound cliched, but compared to this, the first \"Hercules\" of 1983 looks like a mature and exciting epic! This \"sequel\" is moronic, cheap, unredeemable, childish, phony, inept and BAD...   \n",
       "...                                                                                                                                                                                                                                                                                                            ...   \n",
       "13586  Well, this is new...Famous Italian horror director Lucio Fulci shoots a film about a famous Italian horror director called...Lucio Fulci. After years and years of witnessing gruesome horror sequences, it becomes hard for Lucio to separate reality from fiction and he often hallucinates about comm...   \n",
       "12216  For all the Homicide junkies out there, this movie was great! Every single character that ever was on the show made an appearance in the movie. It helped to resolve some (but not all) issues from the series. Unfortunately, unless you actually did watch the series, most of the enjoyment would be ...   \n",
       "14843  For me, North and South (Books I&II) is the ultimate TV series of the 80's. Just spotting all those cameo appearances was highly entertaining.Gene Kelly, James Stewart, Elisabeth Taylor, Olivia De Havilland, Robert Mitchum, even Johny CashÂ¡ No series has come close to this achievement.Have you ...   \n",
       "4831   I would like to know who conned the producers of this movie to pay for its production - That persion is a genius of sorts. This movie somehow held my attention for about two thirds of it until I realized that it was going nowhere fast. I think the music managed to make it seem like something was...   \n",
       "10780                                                                     Melissa Joan Hart shines! This show is amazing!! There is no match. Except for maybe Melissa in Clarissa Explains it All. She was marvelous in that, too. This is SO much better than Buffy, the Vampire Slayer. This show is WONDERFUL!   \n",
       "\n",
       "       true_label  predicted_y  neg_label_prob  pos_label_prob  \n",
       "8266            0            0        0.598160        0.401840  \n",
       "12987           1            1        0.149451        0.850549  \n",
       "16016           1            1        0.000201        0.999799  \n",
       "16475           1            1        0.000214        0.999786  \n",
       "6277            0            0        0.887257        0.112743  \n",
       "...           ...          ...             ...             ...  \n",
       "13586           1            0        0.607903        0.392097  \n",
       "12216           1            0        0.731939        0.268061  \n",
       "14843           1            1        0.010934        0.989066  \n",
       "4831            0            0        0.966084        0.033916  \n",
       "10780           1            1        0.334744        0.665256  \n",
       "\n",
       "[4000 rows x 5 columns]"
      ]
     },
     "execution_count": 105,
     "metadata": {},
     "output_type": "execute_result"
    }
   ],
   "source": [
    "predict_y = pipe_best.predict(X_test)\n",
    "y_proba = pipe_best.predict_proba(X_test)\n",
    "result_df = pd.DataFrame({\"review\":X_test,\n",
    "                           \"true_label\": y_test,\n",
    "                           \"predicted_y\":predict_y.tolist(),\n",
    "                           \"neg_label_prob\": y_proba[:,0].tolist(),\n",
    "                           \"pos_label_prob\": y_proba[:,1].tolist()})\n",
    "result_df"
   ]
  },
  {
   "cell_type": "markdown",
   "metadata": {
    "tags": []
   },
   "source": [
    "### 3.5 Looking into the probability scores with positive reviews \n",
    "rubric={accuracy:2}\n",
    "\n",
    "<div class=\"alert alert-info\" style=\"color:black\">\n",
    "    \n",
    "Find the top 5 movie reviews in `results_df` with the highest predicted probability of being positive (i.e., where the model is most confident that the review is positive). If you are curious to read these reviews, you can set the pandas column width or using `IPython.display.HTML` [using the tips in this so thread](https://stackoverflow.com/questions/25351968/how-can-i-display-full-non-truncated-dataframe-information-in-html-when-conver/)\n",
    "    \n",
    "</div>"
   ]
  },
  {
   "cell_type": "code",
   "execution_count": 106,
   "metadata": {},
   "outputs": [
    {
     "data": {
      "text/html": [
       "<div>\n",
       "<style scoped>\n",
       "    .dataframe tbody tr th:only-of-type {\n",
       "        vertical-align: middle;\n",
       "    }\n",
       "\n",
       "    .dataframe tbody tr th {\n",
       "        vertical-align: top;\n",
       "    }\n",
       "\n",
       "    .dataframe thead th {\n",
       "        text-align: right;\n",
       "    }\n",
       "</style>\n",
       "<table border=\"1\" class=\"dataframe\">\n",
       "  <thead>\n",
       "    <tr style=\"text-align: right;\">\n",
       "      <th></th>\n",
       "      <th>review</th>\n",
       "      <th>true_label</th>\n",
       "      <th>predicted_y</th>\n",
       "      <th>neg_label_prob</th>\n",
       "      <th>pos_label_prob</th>\n",
       "    </tr>\n",
       "  </thead>\n",
       "  <tbody>\n",
       "    <tr>\n",
       "      <th>12661</th>\n",
       "      <td>That 70s Show is the best TV show ever, period. It's up there with the Andy Griffen Show, Saturday Night Live, and The Simpsons in my book. That 70s Show continued on for 8 seasons, all of which focus around a group of teenagers/young adults dealing with relationships, separating from their parents, and their overall futures.&lt;br /&gt;&lt;br /&gt;The two main characters, Eric and Donna, are two teenagers living next door to each other. They have been living next door to each other for most of their lives, and just begin to feel more feelings for each other at the beginning of the first season. A large amount of the show revolves around how their relationship is working.&lt;br /&gt;&lt;br /&gt;Two other characters, Red and Kitty, are Eric's parents. Red was in the service, so he really pushes Eric around. Kitty is just the opposite. Even though she drinks heavily, she treats Eric and his friends with a lot of care. Bob, their neighbor, is obviously Donna's Dad. Bob giggles around with several different women throughout the coarse of the show's story. Bob also annoys Red to his full extent.&lt;br /&gt;&lt;br /&gt;The remaining character, Hyde, Kelso, Fez, and Jackie, are Eric's friends. They also play a major role in the show's story.&lt;br /&gt;&lt;br /&gt;Well, the First Season is great. This is when the characters are beginning to feel new things for each other. The First Season is original, funny, and enjoyable.&lt;br /&gt;&lt;br /&gt;The Second Season is good, although it isn't as good as the first. It is a basic continuation of the First. Eric and Donna are together, and everything is working out great.&lt;br /&gt;&lt;br /&gt;The Third Season is my favorite. It went back and captured the First Season feel and humor. I also think that the character chemistry improved a bunch, making the show all that more fun to watch.&lt;br /&gt;&lt;br /&gt;The Fourth Season isn't near as good. Eric and Donna Arne't together in this one, making the show slightly less pleasurable. It is still funny, although I didn't enjoy it as much as the previous seasons.&lt;br /&gt;&lt;br /&gt;The Fifth Season is the last season I enjoyed all the way through. It is the gang's Senior Year, so that really helps with the story. The Fifth Season also had the best ending out of all the seasons.&lt;br /&gt;&lt;br /&gt;The Sixth Season is good for the most part. It is extremely funny, although it doesn't capture the feel that the other seasons did. The gang is out of High School, so I believe that it didn't hit the teen feel that the previous seasons did. I also didn't like the last three or four episodes considering that they had a major drama feel to them.&lt;br /&gt;&lt;br /&gt;The Seventh Season captures the same feel that the 5th season had in a way, although it didn't do it all the way. I enjoyed the Seventh Season as I did all the others, and the ending is great.&lt;br /&gt;&lt;br /&gt;The Last Season flat out sucked. Eric wasn't in it, which ruined it. Kelso wasn't in it for the most part either, which didn't help. I hated the Eighth Season up until the last episode. I thought that the last episode was really good, and a fitting ending to the series.&lt;br /&gt;&lt;br /&gt;So overall, if you enjoy comedy, give That 70s Show a try. They stopped making new episodes, but it is still on TV a bunch. I also recommend buying Seasons 1-7. It is up to you if you want to buy Season 8.</td>\n",
       "      <td>1</td>\n",
       "      <td>1</td>\n",
       "      <td>9.061706e-09</td>\n",
       "      <td>1.0</td>\n",
       "    </tr>\n",
       "    <tr>\n",
       "      <th>16789</th>\n",
       "      <td>Raggedy Ann and Raggedy Andy THE MOVIE is about dolls that come to life when the humans aren't around. In this adventure they must rescue a kidnapped french doll named Babette from the captain of pirates. On their way they journey though Deep Dark Woods, Taffy Pit, and even Looney Land. Will the aide of their new friend The Camel With Wrinkled Knees help them or just slow them down with his hallucinations of his friends leaving him? How will they escape the Kookoo king and his henchmen!? What will their owner Marcella say when she sees her 7th birthday present doll gone along with her other toys? Delightful surprises await the two adventurers.&lt;br /&gt;&lt;br /&gt;All scores are out of a possible 10: Story: 8 - Very cute. Dolls that come to life when the master isn't around. Not just that because they go out into many many different places, but they are in an imaginary world so anything can happen. Meeting new characters, going to different places finding new friends, its great. The characters all work so well in this too and who doesn't love pirates?! Acting: 8 - Every character suits their voice so well. Specifically the Marlon Brando taffy pit enemy, The Greed. The french doll has a very uptight french accent, the evil Hitler-esquire king Kookoo (whos got hair that resembles Simpson's Sideshow Bob) plays his role very well, and the sorrow old black man voice for Camel works perfectly. Why is it that old dubbed animation was soo much better than new ones? Music: 10 - Nothing short of perfection here. The songs have been in my head for years, and re-watching it nearly 20 years later, i can still remember each and every one of them and will now be able to know exactly where these tunes come from. Joe Raposo of \"Sesame Street\" fame did an excellent job with the songs for this and everyone sings real well.&lt;br /&gt;&lt;br /&gt;Editing: 6 - Heh, this is where it'll get confusing. I mean how far did the Raggedy's walk anyway? A lot of events just seem to occur one after another and there's no telling WHO the other dolls and toys were as you never see them in the real world of the movie, but it does follow some sort of path and you know they'll eventually get to where they need to go, its just pretty hard to follow at times.&lt;br /&gt;&lt;br /&gt;Uniqueness: 8 - Between this and Unico i'd have to say there's parts in both movies i will never forget no matter how hard i try to. Mainly the scary parts. I've probably mentioned already how older movies were Much creepier than animation of today but this takes the cake in the scary factor. Outside of the South Park movie and some Disney films there's almost no animated musicals, or good ones of that coming out so its very unique.&lt;br /&gt;&lt;br /&gt;Worth: 8- Its classic. Worth the hunt to get a good copy thats for sure, but the VHS copies are probably all stretched out by now. The DVD version is sold on Ebay all the time and it'll definitely be something you'll watch more than once. If anything get it for the nostalgia purposes.&lt;br /&gt;&lt;br /&gt;Overall Score (Not an average): 8 - Its a wonderful timeless musical made in the late 70s and can still be enjoyed today. Its characters are all unique and the songs are great. So great you might find yourself humming them time and time again. Give your favorite stuffed animal a hug today! Reviewer's Insight (Including bias): This isn't like the Raggedy Ann TV series made a decade later. This was way more darker and real world. The effects in this seem like a lot of other acid-trip cartoons from the 70's, in particular, Yellow Submarine. Still, its given me memories I'll never forget, and might still influence things today. It wasn't easy to find but it'll remain a treasure to keep in my collection of DVDs and videos forever.</td>\n",
       "      <td>1</td>\n",
       "      <td>1</td>\n",
       "      <td>3.105757e-08</td>\n",
       "      <td>1.0</td>\n",
       "    </tr>\n",
       "    <tr>\n",
       "      <th>18165</th>\n",
       "      <td>1904. The North African nation of Morocco is hanging onto a tenuous Independence, as the various European powers - France, Germany, Britain, Russia, Spain, and now the United States - are vying for influence in the region. The Sultan (Marc Zuber) is a weak puppet; his uncle, the Bashaw (Vladek Sheybal), who is being manipulated by the French and Germans, is the real power behind the throne. Enter Berber Chieftan Raisuli (Sean Connery), the leader of the Rif tribe and \"the last of the Barbary Pirates\", who kidnaps an American missionary, Eden Pedecaris (Candice Bergen) and her two children and takes them hostage. Back in the US, President Theodore Roosevelt (Brian Keith) threatens to go to war over the issue: \"Pedecaris Alive or Raisuli Dead!\" - seeing the issue as the perfect way to exercise his \"Big Stick\" diplomacy, though Secretary of State John Hay (John Huston) is not so confident. However, the Raisuli has less sinister plans for the Pedecarises, who are more than capable of handling themselves in any event.&lt;br /&gt;&lt;br /&gt;John Milius's great historical film, based VERY loosely off of a true story (i.e. Pedecaris was a middle-aged man), is a wonderful bit of escapism. It has some amazing action scenes, a witty, well-written script, a fine cast enjoying themselves with the material, and does not overstay its welcome like, say, \"Pirates of the Caribbean\" or the \"Lord of the Rings\" movies. It's not really an \"epic\" film in the strictest sense, but it's one of the best pure action movies ever made.&lt;br /&gt;&lt;br /&gt;While the historical context is shaky, the storyline is interesting, and as some reviewers point out, it is even more pertinent today than it was when made. As President Roosevelt says, \"America is like a grizzly bear\" - fierce, strong, but a little blind and reckless at times. At the time of the film's setting, America has just been propelled onto the world stage as superpower, following their resounding victory in the Spanish-American War - and Roosevelt seizes this incident as a way to prove America's worth. In real life, it didn't quite work out that way, but allegorically it works well. While written from a right-wing perspective, Milius's screenplay is pretty accurate in assessing America and its place in the world. He admires Roosevelt and his method of \"big stick\" diplomacy, and correctly recognizes (in the words of Roosevelt) that while America may be feared and respected, they'll never be truly \"loved\" by the world, no matter what they do. And there are some scenes - like Roosevelt's target shooting of European leaders and the almost-comic surprise attack by Marines on the Bashaw's palace - which show America's reckless and violent side, while others - the climactic showdown with the Germans - show their heroism.&lt;br /&gt;&lt;br /&gt;The historical/political context of the film is, of course, merely meat on the bones of what is essentially a rousing action/adventure film. There are some brilliantly done action scenes, such as Raisuli's rescue of the Pedecaris's from double-crossing tribesmen, which features some of the best swordplay in any film. The opening entrance of the Raisuli and the aforementioned march and attack of the US Marines are brilliantly done bravura set pieces. And the final battle, which combines elements of \"Lawrence of Arabia\" and \"The Wild Bunch\", while a major historical fantasy (a three-way battle between Germans, Americans, and the Rifs), is a superbly staged, adrenaline-pumping sequence.&lt;br /&gt;&lt;br /&gt;The excellent cast gives some wonderful performances. Everyone seems to be having a fun time with the film, and it shows. Sean Connery is surprisingly convincing as a Berber with a Scottish accent, but manages to pull off his interesting, well-drawn and chivalrous character who comes to respect his hostage and abhors modern, uncivil warfare. Candice Bergen, an actress whom I've never been fond of, gives a fine performance as the feisty Eden Pedecaris, who is every bit as tough as her captor. Brian Keith is an amazingly convincing TR - you really feel he must have been like this, an athletic, blustering, yet practical and intelligent man with an admirable sense of self. The scenes of Roosevelt boxing and target-shooting while discussing foreign policy are some of the greatest \"bad ass\" moments in movie history - and who can forget lines like \"Why spoil the beauty of the thing with legality?\" John Huston provides solid support as the weary, cautious Hay, acting as a perfect foil to the much more impetuous Roosevelt. &lt;br /&gt;&lt;br /&gt;Among the fine supporting cast, the best are Geoffrey Lewis as Samuel Gummere, the cynical Ambassador caught in the middle of the political intrigue, and Steve Kanaly, as the gung-ho Marine Captain who cheerfully advocates (and carries out) \"Military intervention!\" as the blunt and simple solution to the whole complex situation. Other familiar faces such as Vladek Sheybal, Nadim Sawalha, Roy Jenson, Larry Cross, Marc Zuber, and Darrell Fetty also do fine work, no matter how small their role. Spaghetti Western fans will recognize Antoine Saint-John (\"A Fistful of Dynamite\") as the German general and Aldo Sambrell as one of Raisuli's tribesmen.&lt;br /&gt;&lt;br /&gt;\"The Wind and the Lion\" is, all around, a wonderfully done adventure film. It has something for everyone: wonderful gun- and swordplay, a lot of humor, a tough, feisty heroine (and her two cute children), a nice (if unconsummated) romance, and an interesting (if fanciful) political/historical context. It's not a masterpiece, but hey, it wasn't trying to be. I give \"The Wind and the Lion\" a stirring nine stars and my highest recommendation.</td>\n",
       "      <td>1</td>\n",
       "      <td>1</td>\n",
       "      <td>4.467221e-08</td>\n",
       "      <td>1.0</td>\n",
       "    </tr>\n",
       "    <tr>\n",
       "      <th>13120</th>\n",
       "      <td>Moving beyond words is this heart breaking story of a divorce which results in a tragic custody battle over a seven year old boy.&lt;br /&gt;&lt;br /&gt;One of \"Kramer v. Kramer's\" great strengths is its screenwriter director Robert Benton, who has marvellously adapted Avery Corman's novel to the big screen. He keeps things beautifully simple and most realistic, while delivering all the drama straight from the heart. His talent for telling emotional tales like this was to prove itself again with \"Places in the Heart\", where he showed, as in \"Kramer v. Kramer\", that he has a natural ability for working with children.&lt;br /&gt;&lt;br /&gt;The picture's other strong point is the splendid acting which deservedly received four of the film's nine Academy Award nominations, two of them walking away winners. One of those was Dustin Hoffman (Best Actor), who is superb as frustrated business man Ted Kramer, a man who has forgotten that his wife is a person. As said wife Joanne, Meryl Streep claimed the supporting actress Oscar for a strong, sensitive portrayal of a woman who had lost herself in eight years of marriage. Also nominated was Jane Alexander for her fantastic turn as the Kramer's good friend Margaret. Final word in the acting stakes must go to young Justin Henry, whose incredibly moving performance will find you choking back tears again and again, and a thoroughly deserved Oscar nomination came his way.&lt;br /&gt;&lt;br /&gt;Brilliant also is Nestor Almendros' cinematography and Jerry Greenberg's timely editing, while musically Henry Purcell's classical piece is used to effect.&lt;br /&gt;&lt;br /&gt;Truly this is a touching story of how a father and son come to depend on each other when their wife and mother leaves. They grow together, come to know each other and form an entirely new and wonderful relationship. Ted finds himself with new responsibilities and a new outlook on life, and slowly comes to realise why Joanne had to go.&lt;br /&gt;&lt;br /&gt;Certainly if nothing else, \"Kramer v. Kramer\" demonstrates that nobody wins when it comes to a custody battle over a young child, especially not the child himself.&lt;br /&gt;&lt;br /&gt;Saturday, June 10, 1995 - T.V.&lt;br /&gt;&lt;br /&gt;Strong drama from Avery Corman's novel about the heartache of a custody battle between estranged parents who both feel they have the child's best interests at heart. Aside from a superb screenplay and amazingly controlled direction, both from Robert Benton, it's the superlative cast that make this picture such a winner.&lt;br /&gt;&lt;br /&gt;Hoffman is brilliant as Ted Kramer, the man torn between his toppling career and the son whom he desperately wants to keep. Excellent too is Streep as the woman lost in eight years of marriage who had to get out before she faded to nothing as a person. In support of these two is a very strong Jane Alexander as mutual friend Margaret, an outstanding Justin Henry as the boy caught in the middle, and a top cast of extras.&lt;br /&gt;&lt;br /&gt;This highly emotional, heart rending drama more than deserved it's 1979 Academy Awards for best film, best actor (Hoffman) and best supporting actress (Streep).&lt;br /&gt;&lt;br /&gt;Wednesday, February 28, 1996 - T.V.</td>\n",
       "      <td>1</td>\n",
       "      <td>1</td>\n",
       "      <td>1.031653e-07</td>\n",
       "      <td>1.0</td>\n",
       "    </tr>\n",
       "    <tr>\n",
       "      <th>18719</th>\n",
       "      <td>How strange the human mind is; this center of activity wherein perceptions of reality are formed and stored, and in which one's view of the world hinges on the finely tuned functioning of the brain, this most delicate and intricate processor of all things sensory. And how much do we really know of it's inner-workings, of it's depth or capacity? What is it in the mind that allows us to discern between reality and a dream? Or can we? Perhaps our sense of reality is no more than an impression of what we actually see, like looking at a painting by Monet, in which the vanilla sky of his vision becomes our reality. It's a concept visited by filmmaker Cameron Crowe in his highly imaginative and consciousness-altering film, `Vanilla Sky,' starring Tom Cruise and Penelope Cruz. At the age of thirty-three, David Aames (Cruise) inherits a publishing empire left to him by his father. His fifty-one percent controlling interest, however, has made him something of a marked man, as there are seven members of his board of directors, and each deems himself more worthy than the young Mr. Aames of the lion's share of the company. And fueling the fires of discontent is their perception that David lacks the focus the job requires.&lt;br /&gt;&lt;br /&gt;Admittedly, David likes to play; still, he's in control of the business and does what he sees fit, whether the board (he refers to them as the `Seven Dwarfs') likes it or not, and no one has ever had the courage to challenge him directly. But during a lavish birthday party in his honor, one of the corporate lawyers, Thomas Tipp (Timothy Spall) warns David that the seven are up to something behind his back. At the time, however, it's the last thing on David's mind; he's been having a casual affair with a friend, Julie Gianni (Cameron Diaz), but even that moves to the back burner when he meets a woman at his party that he can't get out of his mind. Her name is Sofia (Penelope Cruz), and after knowing her for only one night, she becomes a pivotal part of his life-- which is about to be turned upside down, as on the morning after his party he makes a decision that will change his life forever. And he is about to learn that sometimes, there is simply no going back.&lt;br /&gt;&lt;br /&gt;Director Cameron Crowe has crafted and delivered much more than just another film with this one; far more than a movie, `Vanilla Sky' is a vision realized. Beginning with the first images that appear on screen, he presents a visually stunning experience that is both viscerally and cerebrally affecting. It's a mind-twisting mystery that will swallow you up and sweep you away; emotionally, it's a rush-- and it may leave you exhausted, because it requires some effort to stay with it. But it's worth it. Think `Memento' with a driving rock n' roll soundtrack and a vibrant assault of colors proffered by the stroke of an impressionist's brush. There's darkness and light, and sounds that pound and drive until you can feel the blood rushing through your veins and throbbing in your brain. And all played out on a landscape of virtual reality swirling beneath that ever expanding vanilla sky. Simply put, this one's a real trip; it's exciting-- and it's a mind bender.&lt;br /&gt;&lt;br /&gt;As to the performances here, those who can't get past the mind-set of Tom Cruise as Maverick in `Top Gun,' or his Ethan Hunt in `Mission Impossible,' or those who perceive him only as a `movie star' rather than an actor, are going to have to think again in light of his work here. Because as David Aames, Cruise gives the best performance of his career, one that should check any doubts as to his ability as an actor at the door. He's made some interesting career choices the past few years, with films like `Magnolia' and `Eyes Wide Shut' merely warm-ups for the very real and complex character he creates here. And give him credit, too, for taking on a role that dispels any sense of vanity; this is Cruise as you've never seen him before. `Jerry Maguire' earned him an Oscar nomination, and this one should, also-- as well as the admiration and acclaim of his peers. Cruise is not just good in this movie, he is remarkable.&lt;br /&gt;&lt;br /&gt;Penelope Cruz turns in an outstanding, if not exceptional performance, as well, as Sofia, the woman of David's dreams. There's an alluring innocence she brings to this role that works well for her character and makes her forthcoming and accessible, yet she lacks any hint of mystery that may have added that special `something extra' to the part. But Crowe knows how to get the best out of his actors, and he certainly did with Cruz.&lt;br /&gt;&lt;br /&gt;He also knew what he was doing with Cameron Diaz, who is absolutely vibrant in the role of Julie. She's never looked better, and fairly sizzles on screen. But make no mistake, this is no `window-dressing' part, and Diaz delivers a complete package with this character. The quality of her performance can be measured, in fact, in the impact she makes with rather limited screen time. And it's the persona she integrates so fully with her innate beauty that makes Julie so unforgettable. Overall, a terrific job by Diaz.&lt;br /&gt;&lt;br /&gt;The supporting cast includes Kurt Russell (Dr. McCabe), Jason Lee (Brian), Johnny Galecki (Peter), Armand Schultz (Dr. Pomerantz), Noah Taylor (Ed), Mel Thompson (`L.E.' Man), Jean Carol (Woman in New York) and John Fedevich (Silent Ed). About half-way through, this one may have you questioning your own sense of reality; but rest assured, by the end of `Vanilla Sky' all will be revealed. It's a reality-bender, to be sure, and a wild one; but this is exciting entertainment that offers a satisfying-- and unique-- experience, one you have to see to believe. It's the essential, and absolute, magic of the movies. 10/10.&lt;br /&gt;&lt;br /&gt;</td>\n",
       "      <td>1</td>\n",
       "      <td>1</td>\n",
       "      <td>1.581878e-07</td>\n",
       "      <td>1.0</td>\n",
       "    </tr>\n",
       "  </tbody>\n",
       "</table>\n",
       "</div>"
      ],
      "text/plain": [
       "                                                                                                                                                                                                                                                                                                                                                                                                                                                                                                                                                                                                                                                                                                                                                                                                                                                                                                                                                                                                                                                                                                                                                                                                                                                                                                                                                                                                                                                                                                                                                                                                                                                                                                                                                                                                                                                                                                                                                                                                                                                                                                                                                                                                                                                                                                                                                                                                                                                                                                                                                                                                                                                                                                                                                                                                                                                                                                                                                                                                                                                                                                                                                                                                                                                                                                                                                                                                                                                                                                                                                                                                                                                                                                                                                                                                                                                                                                                                                                                                                                                                                                                                                                                                                                                                                                                                                                                                                                                                                                                                                                                                                                                                                                                                                                                                                                                                                                                                                                                                                                                                                                                                                                                                                                                                                                                                                                                                                                                                                                                                                                                                                                                                                                                                                                                                                                                                                                                                                                                          review  \\\n",
       "12661                                                                                                                                                                                                                                                                                                                                                                                                                                                                                                                                                                                                                                                                                                                                                                                                                                                                                                                                                                                                                                                                                                                                                                                                                                                                                                                                                                                                                                                                                                                                                                                                                                                                                                                                                                                                                                                                                                                                                                                                                                                                                                                                                                                                                                                                                                                                                                                                                                                                                                                                                                                      That 70s Show is the best TV show ever, period. It's up there with the Andy Griffen Show, Saturday Night Live, and The Simpsons in my book. That 70s Show continued on for 8 seasons, all of which focus around a group of teenagers/young adults dealing with relationships, separating from their parents, and their overall futures.<br /><br />The two main characters, Eric and Donna, are two teenagers living next door to each other. They have been living next door to each other for most of their lives, and just begin to feel more feelings for each other at the beginning of the first season. A large amount of the show revolves around how their relationship is working.<br /><br />Two other characters, Red and Kitty, are Eric's parents. Red was in the service, so he really pushes Eric around. Kitty is just the opposite. Even though she drinks heavily, she treats Eric and his friends with a lot of care. Bob, their neighbor, is obviously Donna's Dad. Bob giggles around with several different women throughout the coarse of the show's story. Bob also annoys Red to his full extent.<br /><br />The remaining character, Hyde, Kelso, Fez, and Jackie, are Eric's friends. They also play a major role in the show's story.<br /><br />Well, the First Season is great. This is when the characters are beginning to feel new things for each other. The First Season is original, funny, and enjoyable.<br /><br />The Second Season is good, although it isn't as good as the first. It is a basic continuation of the First. Eric and Donna are together, and everything is working out great.<br /><br />The Third Season is my favorite. It went back and captured the First Season feel and humor. I also think that the character chemistry improved a bunch, making the show all that more fun to watch.<br /><br />The Fourth Season isn't near as good. Eric and Donna Arne't together in this one, making the show slightly less pleasurable. It is still funny, although I didn't enjoy it as much as the previous seasons.<br /><br />The Fifth Season is the last season I enjoyed all the way through. It is the gang's Senior Year, so that really helps with the story. The Fifth Season also had the best ending out of all the seasons.<br /><br />The Sixth Season is good for the most part. It is extremely funny, although it doesn't capture the feel that the other seasons did. The gang is out of High School, so I believe that it didn't hit the teen feel that the previous seasons did. I also didn't like the last three or four episodes considering that they had a major drama feel to them.<br /><br />The Seventh Season captures the same feel that the 5th season had in a way, although it didn't do it all the way. I enjoyed the Seventh Season as I did all the others, and the ending is great.<br /><br />The Last Season flat out sucked. Eric wasn't in it, which ruined it. Kelso wasn't in it for the most part either, which didn't help. I hated the Eighth Season up until the last episode. I thought that the last episode was really good, and a fitting ending to the series.<br /><br />So overall, if you enjoy comedy, give That 70s Show a try. They stopped making new episodes, but it is still on TV a bunch. I also recommend buying Seasons 1-7. It is up to you if you want to buy Season 8.   \n",
       "16789                                                                                                                                                                                                                                                                                                                                                                                                                                                                                                                                                                                                                                                                                                                                                                                                                                                                                                                                                                                                                                                                                                                                                                                                                                                                                                                                                                                                                                                                                                                                                                                                                                                                                                                                                                                                                                                                                                                                                                                                                                                                                                        Raggedy Ann and Raggedy Andy THE MOVIE is about dolls that come to life when the humans aren't around. In this adventure they must rescue a kidnapped french doll named Babette from the captain of pirates. On their way they journey though Deep Dark Woods, Taffy Pit, and even Looney Land. Will the aide of their new friend The Camel With Wrinkled Knees help them or just slow them down with his hallucinations of his friends leaving him? How will they escape the Kookoo king and his henchmen!? What will their owner Marcella say when she sees her 7th birthday present doll gone along with her other toys? Delightful surprises await the two adventurers.<br /><br />All scores are out of a possible 10: Story: 8 - Very cute. Dolls that come to life when the master isn't around. Not just that because they go out into many many different places, but they are in an imaginary world so anything can happen. Meeting new characters, going to different places finding new friends, its great. The characters all work so well in this too and who doesn't love pirates?! Acting: 8 - Every character suits their voice so well. Specifically the Marlon Brando taffy pit enemy, The Greed. The french doll has a very uptight french accent, the evil Hitler-esquire king Kookoo (whos got hair that resembles Simpson's Sideshow Bob) plays his role very well, and the sorrow old black man voice for Camel works perfectly. Why is it that old dubbed animation was soo much better than new ones? Music: 10 - Nothing short of perfection here. The songs have been in my head for years, and re-watching it nearly 20 years later, i can still remember each and every one of them and will now be able to know exactly where these tunes come from. Joe Raposo of \"Sesame Street\" fame did an excellent job with the songs for this and everyone sings real well.<br /><br />Editing: 6 - Heh, this is where it'll get confusing. I mean how far did the Raggedy's walk anyway? A lot of events just seem to occur one after another and there's no telling WHO the other dolls and toys were as you never see them in the real world of the movie, but it does follow some sort of path and you know they'll eventually get to where they need to go, its just pretty hard to follow at times.<br /><br />Uniqueness: 8 - Between this and Unico i'd have to say there's parts in both movies i will never forget no matter how hard i try to. Mainly the scary parts. I've probably mentioned already how older movies were Much creepier than animation of today but this takes the cake in the scary factor. Outside of the South Park movie and some Disney films there's almost no animated musicals, or good ones of that coming out so its very unique.<br /><br />Worth: 8- Its classic. Worth the hunt to get a good copy thats for sure, but the VHS copies are probably all stretched out by now. The DVD version is sold on Ebay all the time and it'll definitely be something you'll watch more than once. If anything get it for the nostalgia purposes.<br /><br />Overall Score (Not an average): 8 - Its a wonderful timeless musical made in the late 70s and can still be enjoyed today. Its characters are all unique and the songs are great. So great you might find yourself humming them time and time again. Give your favorite stuffed animal a hug today! Reviewer's Insight (Including bias): This isn't like the Raggedy Ann TV series made a decade later. This was way more darker and real world. The effects in this seem like a lot of other acid-trip cartoons from the 70's, in particular, Yellow Submarine. Still, its given me memories I'll never forget, and might still influence things today. It wasn't easy to find but it'll remain a treasure to keep in my collection of DVDs and videos forever.   \n",
       "18165                                                                                                                      1904. The North African nation of Morocco is hanging onto a tenuous Independence, as the various European powers - France, Germany, Britain, Russia, Spain, and now the United States - are vying for influence in the region. The Sultan (Marc Zuber) is a weak puppet; his uncle, the Bashaw (Vladek Sheybal), who is being manipulated by the French and Germans, is the real power behind the throne. Enter Berber Chieftan Raisuli (Sean Connery), the leader of the Rif tribe and \"the last of the Barbary Pirates\", who kidnaps an American missionary, Eden Pedecaris (Candice Bergen) and her two children and takes them hostage. Back in the US, President Theodore Roosevelt (Brian Keith) threatens to go to war over the issue: \"Pedecaris Alive or Raisuli Dead!\" - seeing the issue as the perfect way to exercise his \"Big Stick\" diplomacy, though Secretary of State John Hay (John Huston) is not so confident. However, the Raisuli has less sinister plans for the Pedecarises, who are more than capable of handling themselves in any event.<br /><br />John Milius's great historical film, based VERY loosely off of a true story (i.e. Pedecaris was a middle-aged man), is a wonderful bit of escapism. It has some amazing action scenes, a witty, well-written script, a fine cast enjoying themselves with the material, and does not overstay its welcome like, say, \"Pirates of the Caribbean\" or the \"Lord of the Rings\" movies. It's not really an \"epic\" film in the strictest sense, but it's one of the best pure action movies ever made.<br /><br />While the historical context is shaky, the storyline is interesting, and as some reviewers point out, it is even more pertinent today than it was when made. As President Roosevelt says, \"America is like a grizzly bear\" - fierce, strong, but a little blind and reckless at times. At the time of the film's setting, America has just been propelled onto the world stage as superpower, following their resounding victory in the Spanish-American War - and Roosevelt seizes this incident as a way to prove America's worth. In real life, it didn't quite work out that way, but allegorically it works well. While written from a right-wing perspective, Milius's screenplay is pretty accurate in assessing America and its place in the world. He admires Roosevelt and his method of \"big stick\" diplomacy, and correctly recognizes (in the words of Roosevelt) that while America may be feared and respected, they'll never be truly \"loved\" by the world, no matter what they do. And there are some scenes - like Roosevelt's target shooting of European leaders and the almost-comic surprise attack by Marines on the Bashaw's palace - which show America's reckless and violent side, while others - the climactic showdown with the Germans - show their heroism.<br /><br />The historical/political context of the film is, of course, merely meat on the bones of what is essentially a rousing action/adventure film. There are some brilliantly done action scenes, such as Raisuli's rescue of the Pedecaris's from double-crossing tribesmen, which features some of the best swordplay in any film. The opening entrance of the Raisuli and the aforementioned march and attack of the US Marines are brilliantly done bravura set pieces. And the final battle, which combines elements of \"Lawrence of Arabia\" and \"The Wild Bunch\", while a major historical fantasy (a three-way battle between Germans, Americans, and the Rifs), is a superbly staged, adrenaline-pumping sequence.<br /><br />The excellent cast gives some wonderful performances. Everyone seems to be having a fun time with the film, and it shows. Sean Connery is surprisingly convincing as a Berber with a Scottish accent, but manages to pull off his interesting, well-drawn and chivalrous character who comes to respect his hostage and abhors modern, uncivil warfare. Candice Bergen, an actress whom I've never been fond of, gives a fine performance as the feisty Eden Pedecaris, who is every bit as tough as her captor. Brian Keith is an amazingly convincing TR - you really feel he must have been like this, an athletic, blustering, yet practical and intelligent man with an admirable sense of self. The scenes of Roosevelt boxing and target-shooting while discussing foreign policy are some of the greatest \"bad ass\" moments in movie history - and who can forget lines like \"Why spoil the beauty of the thing with legality?\" John Huston provides solid support as the weary, cautious Hay, acting as a perfect foil to the much more impetuous Roosevelt. <br /><br />Among the fine supporting cast, the best are Geoffrey Lewis as Samuel Gummere, the cynical Ambassador caught in the middle of the political intrigue, and Steve Kanaly, as the gung-ho Marine Captain who cheerfully advocates (and carries out) \"Military intervention!\" as the blunt and simple solution to the whole complex situation. Other familiar faces such as Vladek Sheybal, Nadim Sawalha, Roy Jenson, Larry Cross, Marc Zuber, and Darrell Fetty also do fine work, no matter how small their role. Spaghetti Western fans will recognize Antoine Saint-John (\"A Fistful of Dynamite\") as the German general and Aldo Sambrell as one of Raisuli's tribesmen.<br /><br />\"The Wind and the Lion\" is, all around, a wonderfully done adventure film. It has something for everyone: wonderful gun- and swordplay, a lot of humor, a tough, feisty heroine (and her two cute children), a nice (if unconsummated) romance, and an interesting (if fanciful) political/historical context. It's not a masterpiece, but hey, it wasn't trying to be. I give \"The Wind and the Lion\" a stirring nine stars and my highest recommendation.   \n",
       "13120                                                                                                                                                                                                                                                                                                                                                                                                                                                                                                                                                                                                                                                                                                                                                                                                                                                                                                                                                                                                                                                                                                                                                                                                                                                                                                                                                                                                                                                                                                                                                                                                                                                                                                                                                                                                                                                                                                                                                                                                                                                                                                                                                                                                                                                                                                                                                                                                                                                                                                                                                                                                                                                                                                                                        Moving beyond words is this heart breaking story of a divorce which results in a tragic custody battle over a seven year old boy.<br /><br />One of \"Kramer v. Kramer's\" great strengths is its screenwriter director Robert Benton, who has marvellously adapted Avery Corman's novel to the big screen. He keeps things beautifully simple and most realistic, while delivering all the drama straight from the heart. His talent for telling emotional tales like this was to prove itself again with \"Places in the Heart\", where he showed, as in \"Kramer v. Kramer\", that he has a natural ability for working with children.<br /><br />The picture's other strong point is the splendid acting which deservedly received four of the film's nine Academy Award nominations, two of them walking away winners. One of those was Dustin Hoffman (Best Actor), who is superb as frustrated business man Ted Kramer, a man who has forgotten that his wife is a person. As said wife Joanne, Meryl Streep claimed the supporting actress Oscar for a strong, sensitive portrayal of a woman who had lost herself in eight years of marriage. Also nominated was Jane Alexander for her fantastic turn as the Kramer's good friend Margaret. Final word in the acting stakes must go to young Justin Henry, whose incredibly moving performance will find you choking back tears again and again, and a thoroughly deserved Oscar nomination came his way.<br /><br />Brilliant also is Nestor Almendros' cinematography and Jerry Greenberg's timely editing, while musically Henry Purcell's classical piece is used to effect.<br /><br />Truly this is a touching story of how a father and son come to depend on each other when their wife and mother leaves. They grow together, come to know each other and form an entirely new and wonderful relationship. Ted finds himself with new responsibilities and a new outlook on life, and slowly comes to realise why Joanne had to go.<br /><br />Certainly if nothing else, \"Kramer v. Kramer\" demonstrates that nobody wins when it comes to a custody battle over a young child, especially not the child himself.<br /><br />Saturday, June 10, 1995 - T.V.<br /><br />Strong drama from Avery Corman's novel about the heartache of a custody battle between estranged parents who both feel they have the child's best interests at heart. Aside from a superb screenplay and amazingly controlled direction, both from Robert Benton, it's the superlative cast that make this picture such a winner.<br /><br />Hoffman is brilliant as Ted Kramer, the man torn between his toppling career and the son whom he desperately wants to keep. Excellent too is Streep as the woman lost in eight years of marriage who had to get out before she faded to nothing as a person. In support of these two is a very strong Jane Alexander as mutual friend Margaret, an outstanding Justin Henry as the boy caught in the middle, and a top cast of extras.<br /><br />This highly emotional, heart rending drama more than deserved it's 1979 Academy Awards for best film, best actor (Hoffman) and best supporting actress (Streep).<br /><br />Wednesday, February 28, 1996 - T.V.   \n",
       "18719  How strange the human mind is; this center of activity wherein perceptions of reality are formed and stored, and in which one's view of the world hinges on the finely tuned functioning of the brain, this most delicate and intricate processor of all things sensory. And how much do we really know of it's inner-workings, of it's depth or capacity? What is it in the mind that allows us to discern between reality and a dream? Or can we? Perhaps our sense of reality is no more than an impression of what we actually see, like looking at a painting by Monet, in which the vanilla sky of his vision becomes our reality. It's a concept visited by filmmaker Cameron Crowe in his highly imaginative and consciousness-altering film, `Vanilla Sky,' starring Tom Cruise and Penelope Cruz. At the age of thirty-three, David Aames (Cruise) inherits a publishing empire left to him by his father. His fifty-one percent controlling interest, however, has made him something of a marked man, as there are seven members of his board of directors, and each deems himself more worthy than the young Mr. Aames of the lion's share of the company. And fueling the fires of discontent is their perception that David lacks the focus the job requires.<br /><br />Admittedly, David likes to play; still, he's in control of the business and does what he sees fit, whether the board (he refers to them as the `Seven Dwarfs') likes it or not, and no one has ever had the courage to challenge him directly. But during a lavish birthday party in his honor, one of the corporate lawyers, Thomas Tipp (Timothy Spall) warns David that the seven are up to something behind his back. At the time, however, it's the last thing on David's mind; he's been having a casual affair with a friend, Julie Gianni (Cameron Diaz), but even that moves to the back burner when he meets a woman at his party that he can't get out of his mind. Her name is Sofia (Penelope Cruz), and after knowing her for only one night, she becomes a pivotal part of his life-- which is about to be turned upside down, as on the morning after his party he makes a decision that will change his life forever. And he is about to learn that sometimes, there is simply no going back.<br /><br />Director Cameron Crowe has crafted and delivered much more than just another film with this one; far more than a movie, `Vanilla Sky' is a vision realized. Beginning with the first images that appear on screen, he presents a visually stunning experience that is both viscerally and cerebrally affecting. It's a mind-twisting mystery that will swallow you up and sweep you away; emotionally, it's a rush-- and it may leave you exhausted, because it requires some effort to stay with it. But it's worth it. Think `Memento' with a driving rock n' roll soundtrack and a vibrant assault of colors proffered by the stroke of an impressionist's brush. There's darkness and light, and sounds that pound and drive until you can feel the blood rushing through your veins and throbbing in your brain. And all played out on a landscape of virtual reality swirling beneath that ever expanding vanilla sky. Simply put, this one's a real trip; it's exciting-- and it's a mind bender.<br /><br />As to the performances here, those who can't get past the mind-set of Tom Cruise as Maverick in `Top Gun,' or his Ethan Hunt in `Mission Impossible,' or those who perceive him only as a `movie star' rather than an actor, are going to have to think again in light of his work here. Because as David Aames, Cruise gives the best performance of his career, one that should check any doubts as to his ability as an actor at the door. He's made some interesting career choices the past few years, with films like `Magnolia' and `Eyes Wide Shut' merely warm-ups for the very real and complex character he creates here. And give him credit, too, for taking on a role that dispels any sense of vanity; this is Cruise as you've never seen him before. `Jerry Maguire' earned him an Oscar nomination, and this one should, also-- as well as the admiration and acclaim of his peers. Cruise is not just good in this movie, he is remarkable.<br /><br />Penelope Cruz turns in an outstanding, if not exceptional performance, as well, as Sofia, the woman of David's dreams. There's an alluring innocence she brings to this role that works well for her character and makes her forthcoming and accessible, yet she lacks any hint of mystery that may have added that special `something extra' to the part. But Crowe knows how to get the best out of his actors, and he certainly did with Cruz.<br /><br />He also knew what he was doing with Cameron Diaz, who is absolutely vibrant in the role of Julie. She's never looked better, and fairly sizzles on screen. But make no mistake, this is no `window-dressing' part, and Diaz delivers a complete package with this character. The quality of her performance can be measured, in fact, in the impact she makes with rather limited screen time. And it's the persona she integrates so fully with her innate beauty that makes Julie so unforgettable. Overall, a terrific job by Diaz.<br /><br />The supporting cast includes Kurt Russell (Dr. McCabe), Jason Lee (Brian), Johnny Galecki (Peter), Armand Schultz (Dr. Pomerantz), Noah Taylor (Ed), Mel Thompson (`L.E.' Man), Jean Carol (Woman in New York) and John Fedevich (Silent Ed). About half-way through, this one may have you questioning your own sense of reality; but rest assured, by the end of `Vanilla Sky' all will be revealed. It's a reality-bender, to be sure, and a wild one; but this is exciting entertainment that offers a satisfying-- and unique-- experience, one you have to see to believe. It's the essential, and absolute, magic of the movies. 10/10.<br /><br />   \n",
       "\n",
       "       true_label  predicted_y  neg_label_prob  pos_label_prob  \n",
       "12661           1            1    9.061706e-09             1.0  \n",
       "16789           1            1    3.105757e-08             1.0  \n",
       "18165           1            1    4.467221e-08             1.0  \n",
       "13120           1            1    1.031653e-07             1.0  \n",
       "18719           1            1    1.581878e-07             1.0  "
      ]
     },
     "execution_count": 106,
     "metadata": {},
     "output_type": "execute_result"
    }
   ],
   "source": [
    "pd.set_option('display.max_colwidth', None)\n",
    "result_df.sort_values(['pos_label_prob'],ascending=False).head(5)"
   ]
  },
  {
   "cell_type": "markdown",
   "metadata": {},
   "source": [
    "### 3.6 Looking into the probability scores with negative reviews \n",
    "rubric={accuracy:2}\n",
    "\n",
    "<div class=\"alert alert-info\" style=\"color:black\">\n",
    "    \n",
    "Find the top 5 movie reviews in `results_df` with the highest predicted probability of being negative (i.e., where the model is most confident that the review is negative).\n",
    "    \n",
    "</div>"
   ]
  },
  {
   "cell_type": "code",
   "execution_count": 107,
   "metadata": {},
   "outputs": [
    {
     "data": {
      "text/html": [
       "<div>\n",
       "<style scoped>\n",
       "    .dataframe tbody tr th:only-of-type {\n",
       "        vertical-align: middle;\n",
       "    }\n",
       "\n",
       "    .dataframe tbody tr th {\n",
       "        vertical-align: top;\n",
       "    }\n",
       "\n",
       "    .dataframe thead th {\n",
       "        text-align: right;\n",
       "    }\n",
       "</style>\n",
       "<table border=\"1\" class=\"dataframe\">\n",
       "  <thead>\n",
       "    <tr style=\"text-align: right;\">\n",
       "      <th></th>\n",
       "      <th>review</th>\n",
       "      <th>true_label</th>\n",
       "      <th>predicted_y</th>\n",
       "      <th>neg_label_prob</th>\n",
       "      <th>pos_label_prob</th>\n",
       "    </tr>\n",
       "  </thead>\n",
       "  <tbody>\n",
       "    <tr>\n",
       "      <th>8297</th>\n",
       "      <td>Less than 10 minutes into this film I wanted it to end as it was painful. All this \"horror\" movie was about was a group of whiny bitches doing stupid things for 90 minutes, arguing, crying and screaming. Do not let the positive reviews fool you as this really is a terrible movie and you really shouldn't watch it.&lt;br /&gt;&lt;br /&gt;The movies plot had potential to be something great, but it just doesn't happen. A group of five \"teenage\" girls are driving home one night when they find themselves being pursued by a crazed female driver who wants to kill them. Two minutes into the movie, and the characters are already arguing and this doesn't stop. All we have for 90 minutes is a bunch of girls whining, crying, screaming, \"acting\" and arguing. None of the dialogue is even remotely interesting too, so you don't get to really know these characters or enjoy them.&lt;br /&gt;&lt;br /&gt;The acting was terrible and I was shocked to find out that these characters were meant to be teenagers. None of these women looked a day under 20, and one of them easily looked like she was nearly 30 years old. At least get people who look the age. None of them gave even remotely decent performances, and just seemed like they were picked off the street or were friends of the director with no acting abilities. The \"actress\" who played the killer overdone it, but she at least showed something that the other girls didn't - a little bit of talent.&lt;br /&gt;&lt;br /&gt;The characters don't help things because these girls are a bunch of whiny, stupid bitches. That is all I can really say about them, and it did not help that they ALL survived. If I have to go into detail, in one scene the girls are being chased by the killer and having their car knocked a lot. One girl injures herself and is whining about it...four of them aren't wearing seat-belts...what do you expect? One of your friends is being brutally attacked by the killer...and you all just happen to be conveniently \"too hurt\" to help? Whatever.&lt;br /&gt;&lt;br /&gt;The filming of the movie is absolutely terrible. I don't care if this movie had a budget the size of a peanut, the filming was terrible and it was like watching a pirated version of a movie. The cameraman was clearly in the car with the girls, pushed up against a window somewhere and the amount of times the camera blurred out, shook and brushed up against an \"actress\" was horrendous. It was also grainy, and at times you couldn't hear what characters were saying (not that it was anything worth listening to).&lt;br /&gt;&lt;br /&gt;Supposedly the killers car in the movie (that supposedly got hit, even though we only heard the accident) is actually the directors car in real life. No wonder they didn't show the car getting hit! This movie is so cheap, they can't even show a car getting a little scratched up. Oh, gotta mention the soundtrack also...if that's what it was. It was horrid...sad one second, then hard rock the next. &lt;br /&gt;&lt;br /&gt;At the end of the day, Five Across The Eyes just feels like a terrible home-movie filmed in the middle of the road at night with a bunch of stupid girls screaming and arguing for 90 minutes. It doesn't help when the script is terrible, the scares/tension/suspense and (hardly even any gore to make up for it) are absent, the acting is terrible and the picture quality and filming are horrendous.&lt;br /&gt;&lt;br /&gt;This was a horrible low-budget movie. Avoid it at all costs.&lt;br /&gt;&lt;br /&gt;1/10</td>\n",
       "      <td>0</td>\n",
       "      <td>0</td>\n",
       "      <td>1.0</td>\n",
       "      <td>6.052936e-10</td>\n",
       "    </tr>\n",
       "    <tr>\n",
       "      <th>5254</th>\n",
       "      <td>Five Across the Eyes starts as five young teenage girls are driving home in time for their curfew, they stop off at a store &amp; accidentally hit another car &amp; decide to just drive off &amp; leave it. Soon after the other car forces them to stop &amp; a crazy woman with a shotgun gets out &amp; shouts at them, makes them take their clothes off &amp; makes them pee on them &amp; then randomly drives off. Shaken &amp; shocked the girls think their ordeal is over but the crazy woman comes back for seconds as she seems intent on killing the terrified girls who are lost &amp; are low on gas...&lt;br /&gt;&lt;br /&gt;Produced &amp; directed by Greg Swinson &amp; Ryan Theissen with Swinson writing the thing &amp; Theissen responsible for the cinematography &amp; editing I have to say that Five Across the Eyes is easily one of the worst films I have ever seen if not the worst, I mean I'm struggling to think of a film I have seen that's worse. Now let me start off by saying that I am sure a lot of the film-making decision taken here were deliberate to try &amp; provoke atmosphere, tension, realism &amp; suspense but there is not one aspect of Five Across the Eyes that I didn't hate it to be honest it looks like a bad home video that has been put up on YouTube &amp; even then it's still slightly embarrassing &amp; a frankly worthless waste of 90 odd minutes of my time that I could have been doing something more entertaining &amp; fun like pulling my fingernails out with pliers. The reviews on the web seem quite positive but on the IMDb (the amount of 1 Star comments is revealing &amp; they can't all be wrong, right?) &amp; it's message board which I think is much more of an indicator of what the average person thinks it's absolutely trashed by just about everyone &amp; the phrase 'the worst film I have ever seen' is used a few times &amp; to be fair most of these negative comments mention th same things &amp; I have to agree with them. The story is terrible, alright I suspect it's meant to be minimalistic but this minimal? There's never any reason or explanation for the events that happen &amp; it just feels totally random. It goes on for ages, the amount of plot here would struggle to fill a thirty minute made for telly program let along a full length feature. The dialogue is awful with these annoying girls who don't seem to have a brain cell between them taking about random stuff &amp; screaming a lot. Oh god the screaming, there are seemingly endless scenes of these girls screaming or crying or whining which not only irritates &amp; annoys &amp; prevents any sane viewer feeling any sort of sympathy for them it also makes what they are trying to say almost impossible to hear properly. Then there's the real killer, the entire film is set &amp; shot within the confines of a mini van, seriously the camera never leaves this car &amp; as you can imagine it gets really boring, add that the low body count of just one person killed on screen &amp; Five Across the Eyes is a film that I hated with a passion.&lt;br /&gt;&lt;br /&gt;On a technical level again I can see that the film-making style here was a deliberate choice but I have to be honest again &amp; say Five Across the Eyes is the worst looking film I have ever seen. As a fan of film I like my films to look like proper films as it's a visual medium &amp; I definitely don't want them to look worse than the average YouTube video or my home films shot on a camcorder while I was drunk. It really does look that amateurish &amp; that bad, it's a complete eyesore &amp; I hated every moment of every second of it. Just think The Blair Witch Project (1999) only ten times worse looking &amp; sounding &amp; you will be almost there. There are times during Five Across the Eyes when you literally can't tell what's going on or happening because of the camera-work &amp; the almost pitch black &amp; grainy contrast levels. The violence is tame too with a few splashes of blood &amp; a stabbing at the end.&lt;br /&gt;&lt;br /&gt;Low budget doesn't even begin to describe Five Across the Eyes, with a supposed budget of about $4,000 this is easily one of the lowest budgeted films ever given a wide release. The two vans in the film were owned by members of the production &amp; that's basically pretty much the entire budget right there, the locations. The acting is pretty bad by the main cast, I just hated all the fake put on crying &amp; screaming that didn't convince at all but did irritate immensely.&lt;br /&gt;&lt;br /&gt;Five Across the Eyes will go down as one of the worst films I have ever seen &amp; I have seen a few films, whenever anyone now ask's me what's the worst film I have ever seen Five Across the Eyes will definitely get a mention. I hated it, every single aspect &amp; wretched moment of it.</td>\n",
       "      <td>0</td>\n",
       "      <td>0</td>\n",
       "      <td>1.0</td>\n",
       "      <td>1.835450e-09</td>\n",
       "    </tr>\n",
       "    <tr>\n",
       "      <th>8716</th>\n",
       "      <td>'The Hills Eyes II', one of the most pointless and blatantly stupid sequels to come around in some time, is 90 minutes of incompetent film making at its finest. Or worst, however you choose to look at it. While 2006's 'Hills' remake was one of the year's best, and truly frightening, horror films, this sequel takes every spark out of what made that such an accomplishment. Part 2 never gets off the ground, and neither does its mind numbing dialogue. Worst of all, it's not that scary.&lt;br /&gt;&lt;br /&gt;2006's remake followed a family who find themselves in the middle of the New Mexico desert, deserted, and one by one being picked off by deranged and sadistic hill people. People who, as a result of the military testing the atomic bomb on their land years ago, have become who they are. Surviving off travelers who wander into the region. The sequel puts audiences in the same desert, now occupied by the military as they covertly investigate the hills and what might have happened to that poor family. When a group of military trainees are brought to the campsite, they find it deserted with no signs of life. A grim reality soon befalls them, as they come to the realization that they're not alone. And the bloody fate that was handed to many before them will soon become their destiny.&lt;br /&gt;&lt;br /&gt;It doesn't take a genius to realize that 'Hills' has no legitimate reason to exist. But because last year's remake was received well both at the box office and by critics, it came to no surprise that a sequel would be rushed into production while there's still money to be earned. There's no rhyme or reason to it this time around, just an unbelievable and ridiculous set-up to pave the way for thoughtless characters, unoriginal killings, a non-existent story, and slipping interest. Originally, director Alexander Aja made Craven's cult classic into a remake that was a unique and thoroughly disturbing experience. One that gruesomely crossed the line on more than one occasions. Its frank display of violence, sadistic torture, well-rounded characterization, and white-knuckled suspense were all effectively used to shock and repulse audiences. The second time around, it's rehashed hand-me-downs. There's no style, no grit. It tries to build up tension by dismembering bodies, when all it really does is make for a been there, done that kind film, where even the gore seems tame compared to more recent bloodbaths.&lt;br /&gt;&lt;br /&gt;It's a sad state of affairs when deformed mutants who capture women for breeding purposes fails to keep your attention. It's a bore, nothing more. 'Hills' has no bite. Despite a jump or two here and there, there's nothing very scary about this by-the-numbers horror flick. It feels like something you'd see on the Sci-Fi channel, only with some F-bombs, a blood splatter here and there, a rape, and a graphic birth scene that's more gross than shocking. It's cheap. And with 'Hills', you reap what you sew. With no effort given, you can't expect anything in return.&lt;br /&gt;&lt;br /&gt;Replacing Aja with Martin Weisz as director was the film's first big mistake, all he does is drain the film of any sort of emotional resonance. But even more shocking is the uncharacteristically bad script penned by Wes Craven and his son, Jonathan Craven. You ask, how bad could it possibly be? This is the kind of dialogue that makes any comparison look like Shakespeare. Craven has had his fair share of clunkers in the past, but I'd never expect something like this from him. It's so unintentionally funny, you have to wonder, is Craven playing a joke on this? Or did he dump this one on his son after the studio payed him off? The film's characters are one-dimensional talking heads with no emotions or common sense. The acting is just as bad. The only character who may win you over is 'Napoleon' Napoli, the scrawny kid who doesn't fit in with the others. Even the deranged and instinct-driven villains, who we might have found some favor with in the deepest of our thoughts a year ago, are met with indifferent. You don't hate them, you don't like them. You honestly couldn't care less. Just like this movie.&lt;br /&gt;&lt;br /&gt;Even if you were giddy with fear during 'The Hills Have Eyes', as I was, you'll have a tough time finding anything to enjoy in this piece of garbage. It's as generic as generic gets, and there's absolutely nothing here we haven't seen done many times already. I can't express this enough, avoid 'The Hills Have Eyes II' like the plague. It's frightless, unoriginal, frantic, and a bore. Stick to the remake or Craven's original vision. Because if you don't walk out after the first thirty minutes, don't say I didn't warn you.</td>\n",
       "      <td>0</td>\n",
       "      <td>0</td>\n",
       "      <td>1.0</td>\n",
       "      <td>3.343219e-09</td>\n",
       "    </tr>\n",
       "    <tr>\n",
       "      <th>8992</th>\n",
       "      <td>I wrote this as a two part review. Part two has spoilers.&lt;br /&gt;&lt;br /&gt;Part 1: &lt;br /&gt;&lt;br /&gt;No, this isn't that one about the sex with car accidents. This is the one about racism in L.A. You know, the one where everybody is a racist, and race is the topic on everybody's mind at all times. Race.&lt;br /&gt;&lt;br /&gt;Its like the movie has a form of turrets syndrome where race is the constant theme. Race. Racist. Racism. Race Relations. Relay race.&lt;br /&gt;&lt;br /&gt;Paul Haggis made a movie which took the structure of Magnolia, which was used to show the disconnect of people who are tangentially connected, and then screwed it into a 1'53\" mental vomit about racism in America. RACE. In the 24 hour period we have 7 stories running parallel all connected and about race. The first hour, people say ridiculous stuff and do absurd things in an effort to be real about racism in America.&lt;br /&gt;&lt;br /&gt;For example, the story with Ludicrous and Larenz Tate provides the comic relief. Too bad, the first half of their story is lifted straight from The Bonnie Situation in Pulp Fiction. RACISM. Their section is the Quentin Tarantino section where, instead of being cool and talking about foot massages and religion, the characters talk about race and racism. CONSTANTLY. &lt;br /&gt;&lt;br /&gt;The other good thing about it is the Mexican story when the Mexican guy is talking to his daughter. He gives her his invisible impenetrable cloak to protect her from bullets. Decent writing, but that's only because the writers have had daughters and know what they would say in his place.&lt;br /&gt;&lt;br /&gt;The rest of the stories are extremely ludicrous. The Hindi does not act in any semblance of realism. The scene where he's trying to get the lock fixed and the Mexican tells him he needs a new door is abbreviated and stupid. Why would anybody act like that? Is it realistic? NOOO. It reminds me more of the convenience store clerk from The Doom Generation. \"Six Dollar Sixty Six Cents girly.\" If i ever watch the second half of the movie, I hope his head is shot off and his bodiless head starts coughing up relish.&lt;br /&gt;&lt;br /&gt;I haven't mentioned race in over a paragraph. RACE. RACISM. RACE FOR THE SUN. Better. Then, there is the black guy who wants to be white, Matt Dillon who has a chip on his shoulder against blacks, Ryan Phillippe who looks beautiful and does nothing, and various other bad actors acting badly with bad dialog. When Matt Dillon molests the black producers wife, could I help it if I was cracking up? When Philippe is second guessing his writing up of his partner for racism, can I help but crack up? The movie is so funny when it is being racist. Racist. RACIST I tell you.&lt;br /&gt;&lt;br /&gt;Now, mind you, this movie was nominated for Best Picture, Best Director, Best Screenplay, and Best Editing, besides a nod to Matt Dillon who actually did attempt to do a decent job. Who was paid off for that one, I have no clue.&lt;br /&gt;&lt;br /&gt;Don't see it unless you feel like being preached at about the racism in society through a bad and unrealistic script from 2 white men over fifty who have no semblance of reality or interaction with real society in any way shape or form.&lt;br /&gt;&lt;br /&gt;D- &lt;br /&gt;&lt;br /&gt;Part 2:&lt;br /&gt;&lt;br /&gt;The second half of Crash takes any and all story lines in the first half...and spews them back out in a sort of redemptive, conclusionary, the world is a big coincidence kind of way. And it is in fact one of the worst ways to do it.&lt;br /&gt;&lt;br /&gt;Take 1999's Magnolia. People weren't conveniently tied together over and over again. They were just connected in a strange way that happens more often than you think. You know somebody who knows somebody who did something that you knew somebody else was also involved in. Crash takes this wrapping into a serious extreme.&lt;br /&gt;&lt;br /&gt;The stories are lined up so everybody meets again. Are there only 5 on the LAPD force? Aren't these people working weird shifts? Dillon and Philippe were a late shift then an early one the next day? And, why did Tate have to be the murdered hitchhiker? Wouldn't it have had more emotional tension, as well as realism, if it had been somebody we had not been following all day long? Like Phillippe just picks up a random hitchhiker and then freaks out. Everybody'd be freaking out.&lt;br /&gt;&lt;br /&gt;Eventually, in the second half, the touching invisible cloak scene is used to get the Hindi to shoot the daughter. It ticked me off and made me feel dirty. Not that the Hindi shot the daughter, but that they created a beautiful touching scene and then had it be the direct cause of people tearing up. It really ticked me off. At the writers, not the scene.&lt;br /&gt;&lt;br /&gt;The whole movie is fake and totally uncalled for. The coincidences are far too many and they require an extreme suspension of disbelief. Unlike Magnolia which was connected mildly, this had connections upon connections upon connections which were just so over-the-top. The only good part in the second half was when Sandra Bullock falls down the stairs. She doesn't die though. She should have. I cheered when she fell.&lt;br /&gt;&lt;br /&gt;The worst part about the movie is it pulls a Magnolia. Not just in structure, but it has a montage over the song In the Deep where you see everybody being depressed. Magnolia took this and had post-modern commentary on it by having all of the characters singing along to Aimee Mann's Wise Up. Unfortunately, Magnolia came out in 1999, while Crash came out in 2005. Its hard to make commentary on a movie which won't be made for another 6 years, but it happened. Somehow.&lt;br /&gt;&lt;br /&gt;Utter waste of my time.&lt;br /&gt;&lt;br /&gt;First half: D-; Second half: lowest grade ever; Overall: F---</td>\n",
       "      <td>0</td>\n",
       "      <td>0</td>\n",
       "      <td>1.0</td>\n",
       "      <td>1.656031e-08</td>\n",
       "    </tr>\n",
       "    <tr>\n",
       "      <th>7971</th>\n",
       "      <td>In short, this movie is completely worthless.&lt;br /&gt;&lt;br /&gt;The idea is to make movie from the point of view of what someone from the early 1900s might think of the future. An interesting idea, but the lack of compelling story or characters prevents us from ever suspending our disbelief, so the idea just flops.&lt;br /&gt;&lt;br /&gt;Apparently the whole movie was done with actors in front of green screens and we are supposed to be impressed. But as a graphics person, the over softening was an obvious crutch for hiding the difficult sharp edge problem with green screening. The color is majorly washed out to no relevant effect except reduce the visual quality. And I don't understand why anyone would consider anything rendered in this movie to be in any way ground breaking. If anything, the ridiculous retrograde graphics have lowered the bar for really bad graphics -- they don't measure up even to the ancient Jurassic Park graphics. The models for the robots were so simple, plain and very uncompelling. There were a bunch of weirdo prehistoric-like animals on that island, but they are not explained in any way.&lt;br /&gt;&lt;br /&gt;The story is horrible beyond belief. In fact I can't believe I didn't just walk out of this movie. The relationship between Polly and Joe is unmotivated, and throughout the movie is based on distrust and deception. Why is the Morris Paley character even there? We are not in any way convinced that Joe is heroic -- I mean he flies a plane, and saved one person (Polly) for personal reasons. Yeah there's a great hero for you. Dex has very little screen time, so why are we supposed to care about Joe wanting to save him? Who were the Nepalease that locked Joe and Polly in the mine vault, and why would they do it (remembering that the entire Totenkopf operation was robotic)?&lt;br /&gt;&lt;br /&gt;Plot holes: (1) Why did Bai Ling's character (a major fall from her excellent character in \"The Crow\") halt the robots who had captured Joe? They were looking for the vials, and had not found them. (2) Why in the hell would Dex be captured but not killed (he doesn't have or know about the vials, and the bad guys didn't know that Polly had the vials and was connected to Joe and therefore to Dex)? (3) Polly indicates that \"they\" don't know anything about Totenkopf, yet she has some secret source about him that contains what appears to be a fairly complete FBI-style file on him. (4) The blank spot on the map as described by the Nepalese -- if they know all about this mysterious area, then why the hell is their map blank in that spot? (5) At one point, Polly and Joe have to give up their clothes (they are burned) -- Joe is given new clothes that were identical to his old clothes, yet Polly is forced to wear some very odd looking bulky dress, then in the same line of continuity suddenly Polly has her original clothes back.&lt;br /&gt;&lt;br /&gt;*sigh*. How far off am I supposed to switch my brain to watch this crap?&lt;br /&gt;&lt;br /&gt;We are supposed to be exhilarated by the over produced music, even when nothing interesting or remotely exhilarating is happening on screen.&lt;br /&gt;&lt;br /&gt;And the acting? We're supposed to be impressed with a bunch of bad British accents? Which character isn't annoying? I think Ling Bai's dialogue was probably the best in the whole movie (she doesn't have a single line). The dialogue wasn't camp, and doesn't even rise to the level of cheese. Its just bad and annoying. These people aren't hero's or compelling; they are the kind of people you would try to ignore or disassociate with if you ever had the misfortune of meeting them in real life.&lt;br /&gt;&lt;br /&gt;I can't believe that this movie gets an above average rating here on IMDb. IMHO it should be competing with \"Batman Forever\" in the bottom 100 of all time.</td>\n",
       "      <td>0</td>\n",
       "      <td>0</td>\n",
       "      <td>1.0</td>\n",
       "      <td>1.900244e-08</td>\n",
       "    </tr>\n",
       "  </tbody>\n",
       "</table>\n",
       "</div>"
      ],
      "text/plain": [
       "                                                                                                                                                                                                                                                                                                                                                                                                                                                                                                                                                                                                                                                                                                                                                                                                                                                                                                                                                                                                                                                                                                                                                                                                                                                                                                                                                                                                                                                                                                                                                                                                                                                                                                                                                                                                                                                                                                                                                                                                                                                                                                                                                                                                                                                                                                                                                                                                                                                                                                                                                                                                                                                                                                                                                                                                                                                                                                                                                                                                                                                                                                                                                                                                                                                                                                                                                                                                                                                                                                                                                                                                                                                                                                                                                                                                                                                                                                                                                                                                                                                                                                                                                                                                                                                                                                                                                                                                                                                                                                                                                                                                                                                                                                                                                                                                                                                                                                                                                                                                                                                                                                                                                                                                                                                                                                                                                                                                                                                                                                                                                                                                                                                                                                                                                                                                                                                                     review  \\\n",
       "8297                                                                                                                                                                                                                                                                                                                                                                                                                                                                                                                                                                                                                                                                                                                                                                                                                                                                                                                                                                                                                                                                                                                                                                                                                                                                                                                                                                                                                                                                                                                                                                                                                                                                                                                                                                                                                                                                                                                                                                                                                                                                                                                                                                                                                                                                                                                        Less than 10 minutes into this film I wanted it to end as it was painful. All this \"horror\" movie was about was a group of whiny bitches doing stupid things for 90 minutes, arguing, crying and screaming. Do not let the positive reviews fool you as this really is a terrible movie and you really shouldn't watch it.<br /><br />The movies plot had potential to be something great, but it just doesn't happen. A group of five \"teenage\" girls are driving home one night when they find themselves being pursued by a crazed female driver who wants to kill them. Two minutes into the movie, and the characters are already arguing and this doesn't stop. All we have for 90 minutes is a bunch of girls whining, crying, screaming, \"acting\" and arguing. None of the dialogue is even remotely interesting too, so you don't get to really know these characters or enjoy them.<br /><br />The acting was terrible and I was shocked to find out that these characters were meant to be teenagers. None of these women looked a day under 20, and one of them easily looked like she was nearly 30 years old. At least get people who look the age. None of them gave even remotely decent performances, and just seemed like they were picked off the street or were friends of the director with no acting abilities. The \"actress\" who played the killer overdone it, but she at least showed something that the other girls didn't - a little bit of talent.<br /><br />The characters don't help things because these girls are a bunch of whiny, stupid bitches. That is all I can really say about them, and it did not help that they ALL survived. If I have to go into detail, in one scene the girls are being chased by the killer and having their car knocked a lot. One girl injures herself and is whining about it...four of them aren't wearing seat-belts...what do you expect? One of your friends is being brutally attacked by the killer...and you all just happen to be conveniently \"too hurt\" to help? Whatever.<br /><br />The filming of the movie is absolutely terrible. I don't care if this movie had a budget the size of a peanut, the filming was terrible and it was like watching a pirated version of a movie. The cameraman was clearly in the car with the girls, pushed up against a window somewhere and the amount of times the camera blurred out, shook and brushed up against an \"actress\" was horrendous. It was also grainy, and at times you couldn't hear what characters were saying (not that it was anything worth listening to).<br /><br />Supposedly the killers car in the movie (that supposedly got hit, even though we only heard the accident) is actually the directors car in real life. No wonder they didn't show the car getting hit! This movie is so cheap, they can't even show a car getting a little scratched up. Oh, gotta mention the soundtrack also...if that's what it was. It was horrid...sad one second, then hard rock the next. <br /><br />At the end of the day, Five Across The Eyes just feels like a terrible home-movie filmed in the middle of the road at night with a bunch of stupid girls screaming and arguing for 90 minutes. It doesn't help when the script is terrible, the scares/tension/suspense and (hardly even any gore to make up for it) are absent, the acting is terrible and the picture quality and filming are horrendous.<br /><br />This was a horrible low-budget movie. Avoid it at all costs.<br /><br />1/10   \n",
       "5254                                                                                                                                                                                                                                                                                                                                                                                                                                                                                                                                                                                                                                                                                                                                                                                                                                                                                                                                                                                                                                                                               Five Across the Eyes starts as five young teenage girls are driving home in time for their curfew, they stop off at a store & accidentally hit another car & decide to just drive off & leave it. Soon after the other car forces them to stop & a crazy woman with a shotgun gets out & shouts at them, makes them take their clothes off & makes them pee on them & then randomly drives off. Shaken & shocked the girls think their ordeal is over but the crazy woman comes back for seconds as she seems intent on killing the terrified girls who are lost & are low on gas...<br /><br />Produced & directed by Greg Swinson & Ryan Theissen with Swinson writing the thing & Theissen responsible for the cinematography & editing I have to say that Five Across the Eyes is easily one of the worst films I have ever seen if not the worst, I mean I'm struggling to think of a film I have seen that's worse. Now let me start off by saying that I am sure a lot of the film-making decision taken here were deliberate to try & provoke atmosphere, tension, realism & suspense but there is not one aspect of Five Across the Eyes that I didn't hate it to be honest it looks like a bad home video that has been put up on YouTube & even then it's still slightly embarrassing & a frankly worthless waste of 90 odd minutes of my time that I could have been doing something more entertaining & fun like pulling my fingernails out with pliers. The reviews on the web seem quite positive but on the IMDb (the amount of 1 Star comments is revealing & they can't all be wrong, right?) & it's message board which I think is much more of an indicator of what the average person thinks it's absolutely trashed by just about everyone & the phrase 'the worst film I have ever seen' is used a few times & to be fair most of these negative comments mention th same things & I have to agree with them. The story is terrible, alright I suspect it's meant to be minimalistic but this minimal? There's never any reason or explanation for the events that happen & it just feels totally random. It goes on for ages, the amount of plot here would struggle to fill a thirty minute made for telly program let along a full length feature. The dialogue is awful with these annoying girls who don't seem to have a brain cell between them taking about random stuff & screaming a lot. Oh god the screaming, there are seemingly endless scenes of these girls screaming or crying or whining which not only irritates & annoys & prevents any sane viewer feeling any sort of sympathy for them it also makes what they are trying to say almost impossible to hear properly. Then there's the real killer, the entire film is set & shot within the confines of a mini van, seriously the camera never leaves this car & as you can imagine it gets really boring, add that the low body count of just one person killed on screen & Five Across the Eyes is a film that I hated with a passion.<br /><br />On a technical level again I can see that the film-making style here was a deliberate choice but I have to be honest again & say Five Across the Eyes is the worst looking film I have ever seen. As a fan of film I like my films to look like proper films as it's a visual medium & I definitely don't want them to look worse than the average YouTube video or my home films shot on a camcorder while I was drunk. It really does look that amateurish & that bad, it's a complete eyesore & I hated every moment of every second of it. Just think The Blair Witch Project (1999) only ten times worse looking & sounding & you will be almost there. There are times during Five Across the Eyes when you literally can't tell what's going on or happening because of the camera-work & the almost pitch black & grainy contrast levels. The violence is tame too with a few splashes of blood & a stabbing at the end.<br /><br />Low budget doesn't even begin to describe Five Across the Eyes, with a supposed budget of about $4,000 this is easily one of the lowest budgeted films ever given a wide release. The two vans in the film were owned by members of the production & that's basically pretty much the entire budget right there, the locations. The acting is pretty bad by the main cast, I just hated all the fake put on crying & screaming that didn't convince at all but did irritate immensely.<br /><br />Five Across the Eyes will go down as one of the worst films I have ever seen & I have seen a few films, whenever anyone now ask's me what's the worst film I have ever seen Five Across the Eyes will definitely get a mention. I hated it, every single aspect & wretched moment of it.   \n",
       "8716                                                                                                                                                                                                                                                                                                                                                                                                                                                                                                                                                                                                                                                                                                                                                                                                                                                                                                                                                                                                                    'The Hills Eyes II', one of the most pointless and blatantly stupid sequels to come around in some time, is 90 minutes of incompetent film making at its finest. Or worst, however you choose to look at it. While 2006's 'Hills' remake was one of the year's best, and truly frightening, horror films, this sequel takes every spark out of what made that such an accomplishment. Part 2 never gets off the ground, and neither does its mind numbing dialogue. Worst of all, it's not that scary.<br /><br />2006's remake followed a family who find themselves in the middle of the New Mexico desert, deserted, and one by one being picked off by deranged and sadistic hill people. People who, as a result of the military testing the atomic bomb on their land years ago, have become who they are. Surviving off travelers who wander into the region. The sequel puts audiences in the same desert, now occupied by the military as they covertly investigate the hills and what might have happened to that poor family. When a group of military trainees are brought to the campsite, they find it deserted with no signs of life. A grim reality soon befalls them, as they come to the realization that they're not alone. And the bloody fate that was handed to many before them will soon become their destiny.<br /><br />It doesn't take a genius to realize that 'Hills' has no legitimate reason to exist. But because last year's remake was received well both at the box office and by critics, it came to no surprise that a sequel would be rushed into production while there's still money to be earned. There's no rhyme or reason to it this time around, just an unbelievable and ridiculous set-up to pave the way for thoughtless characters, unoriginal killings, a non-existent story, and slipping interest. Originally, director Alexander Aja made Craven's cult classic into a remake that was a unique and thoroughly disturbing experience. One that gruesomely crossed the line on more than one occasions. Its frank display of violence, sadistic torture, well-rounded characterization, and white-knuckled suspense were all effectively used to shock and repulse audiences. The second time around, it's rehashed hand-me-downs. There's no style, no grit. It tries to build up tension by dismembering bodies, when all it really does is make for a been there, done that kind film, where even the gore seems tame compared to more recent bloodbaths.<br /><br />It's a sad state of affairs when deformed mutants who capture women for breeding purposes fails to keep your attention. It's a bore, nothing more. 'Hills' has no bite. Despite a jump or two here and there, there's nothing very scary about this by-the-numbers horror flick. It feels like something you'd see on the Sci-Fi channel, only with some F-bombs, a blood splatter here and there, a rape, and a graphic birth scene that's more gross than shocking. It's cheap. And with 'Hills', you reap what you sew. With no effort given, you can't expect anything in return.<br /><br />Replacing Aja with Martin Weisz as director was the film's first big mistake, all he does is drain the film of any sort of emotional resonance. But even more shocking is the uncharacteristically bad script penned by Wes Craven and his son, Jonathan Craven. You ask, how bad could it possibly be? This is the kind of dialogue that makes any comparison look like Shakespeare. Craven has had his fair share of clunkers in the past, but I'd never expect something like this from him. It's so unintentionally funny, you have to wonder, is Craven playing a joke on this? Or did he dump this one on his son after the studio payed him off? The film's characters are one-dimensional talking heads with no emotions or common sense. The acting is just as bad. The only character who may win you over is 'Napoleon' Napoli, the scrawny kid who doesn't fit in with the others. Even the deranged and instinct-driven villains, who we might have found some favor with in the deepest of our thoughts a year ago, are met with indifferent. You don't hate them, you don't like them. You honestly couldn't care less. Just like this movie.<br /><br />Even if you were giddy with fear during 'The Hills Have Eyes', as I was, you'll have a tough time finding anything to enjoy in this piece of garbage. It's as generic as generic gets, and there's absolutely nothing here we haven't seen done many times already. I can't express this enough, avoid 'The Hills Have Eyes II' like the plague. It's frightless, unoriginal, frantic, and a bore. Stick to the remake or Craven's original vision. Because if you don't walk out after the first thirty minutes, don't say I didn't warn you.   \n",
       "8992  I wrote this as a two part review. Part two has spoilers.<br /><br />Part 1: <br /><br />No, this isn't that one about the sex with car accidents. This is the one about racism in L.A. You know, the one where everybody is a racist, and race is the topic on everybody's mind at all times. Race.<br /><br />Its like the movie has a form of turrets syndrome where race is the constant theme. Race. Racist. Racism. Race Relations. Relay race.<br /><br />Paul Haggis made a movie which took the structure of Magnolia, which was used to show the disconnect of people who are tangentially connected, and then screwed it into a 1'53\" mental vomit about racism in America. RACE. In the 24 hour period we have 7 stories running parallel all connected and about race. The first hour, people say ridiculous stuff and do absurd things in an effort to be real about racism in America.<br /><br />For example, the story with Ludicrous and Larenz Tate provides the comic relief. Too bad, the first half of their story is lifted straight from The Bonnie Situation in Pulp Fiction. RACISM. Their section is the Quentin Tarantino section where, instead of being cool and talking about foot massages and religion, the characters talk about race and racism. CONSTANTLY. <br /><br />The other good thing about it is the Mexican story when the Mexican guy is talking to his daughter. He gives her his invisible impenetrable cloak to protect her from bullets. Decent writing, but that's only because the writers have had daughters and know what they would say in his place.<br /><br />The rest of the stories are extremely ludicrous. The Hindi does not act in any semblance of realism. The scene where he's trying to get the lock fixed and the Mexican tells him he needs a new door is abbreviated and stupid. Why would anybody act like that? Is it realistic? NOOO. It reminds me more of the convenience store clerk from The Doom Generation. \"Six Dollar Sixty Six Cents girly.\" If i ever watch the second half of the movie, I hope his head is shot off and his bodiless head starts coughing up relish.<br /><br />I haven't mentioned race in over a paragraph. RACE. RACISM. RACE FOR THE SUN. Better. Then, there is the black guy who wants to be white, Matt Dillon who has a chip on his shoulder against blacks, Ryan Phillippe who looks beautiful and does nothing, and various other bad actors acting badly with bad dialog. When Matt Dillon molests the black producers wife, could I help it if I was cracking up? When Philippe is second guessing his writing up of his partner for racism, can I help but crack up? The movie is so funny when it is being racist. Racist. RACIST I tell you.<br /><br />Now, mind you, this movie was nominated for Best Picture, Best Director, Best Screenplay, and Best Editing, besides a nod to Matt Dillon who actually did attempt to do a decent job. Who was paid off for that one, I have no clue.<br /><br />Don't see it unless you feel like being preached at about the racism in society through a bad and unrealistic script from 2 white men over fifty who have no semblance of reality or interaction with real society in any way shape or form.<br /><br />D- <br /><br />Part 2:<br /><br />The second half of Crash takes any and all story lines in the first half...and spews them back out in a sort of redemptive, conclusionary, the world is a big coincidence kind of way. And it is in fact one of the worst ways to do it.<br /><br />Take 1999's Magnolia. People weren't conveniently tied together over and over again. They were just connected in a strange way that happens more often than you think. You know somebody who knows somebody who did something that you knew somebody else was also involved in. Crash takes this wrapping into a serious extreme.<br /><br />The stories are lined up so everybody meets again. Are there only 5 on the LAPD force? Aren't these people working weird shifts? Dillon and Philippe were a late shift then an early one the next day? And, why did Tate have to be the murdered hitchhiker? Wouldn't it have had more emotional tension, as well as realism, if it had been somebody we had not been following all day long? Like Phillippe just picks up a random hitchhiker and then freaks out. Everybody'd be freaking out.<br /><br />Eventually, in the second half, the touching invisible cloak scene is used to get the Hindi to shoot the daughter. It ticked me off and made me feel dirty. Not that the Hindi shot the daughter, but that they created a beautiful touching scene and then had it be the direct cause of people tearing up. It really ticked me off. At the writers, not the scene.<br /><br />The whole movie is fake and totally uncalled for. The coincidences are far too many and they require an extreme suspension of disbelief. Unlike Magnolia which was connected mildly, this had connections upon connections upon connections which were just so over-the-top. The only good part in the second half was when Sandra Bullock falls down the stairs. She doesn't die though. She should have. I cheered when she fell.<br /><br />The worst part about the movie is it pulls a Magnolia. Not just in structure, but it has a montage over the song In the Deep where you see everybody being depressed. Magnolia took this and had post-modern commentary on it by having all of the characters singing along to Aimee Mann's Wise Up. Unfortunately, Magnolia came out in 1999, while Crash came out in 2005. Its hard to make commentary on a movie which won't be made for another 6 years, but it happened. Somehow.<br /><br />Utter waste of my time.<br /><br />First half: D-; Second half: lowest grade ever; Overall: F---   \n",
       "7971                                                                                                                                                                                                                                                                                                                                                                                                                                                                                                                                                                                                                                                                                                                                                                                                                                                                                                                                                                                                                                                                                                                                                                                                                                                                                                                                                                                                                                                                                                                                                                                                                                                                                                                                                                                                                                                                                                                                                                 In short, this movie is completely worthless.<br /><br />The idea is to make movie from the point of view of what someone from the early 1900s might think of the future. An interesting idea, but the lack of compelling story or characters prevents us from ever suspending our disbelief, so the idea just flops.<br /><br />Apparently the whole movie was done with actors in front of green screens and we are supposed to be impressed. But as a graphics person, the over softening was an obvious crutch for hiding the difficult sharp edge problem with green screening. The color is majorly washed out to no relevant effect except reduce the visual quality. And I don't understand why anyone would consider anything rendered in this movie to be in any way ground breaking. If anything, the ridiculous retrograde graphics have lowered the bar for really bad graphics -- they don't measure up even to the ancient Jurassic Park graphics. The models for the robots were so simple, plain and very uncompelling. There were a bunch of weirdo prehistoric-like animals on that island, but they are not explained in any way.<br /><br />The story is horrible beyond belief. In fact I can't believe I didn't just walk out of this movie. The relationship between Polly and Joe is unmotivated, and throughout the movie is based on distrust and deception. Why is the Morris Paley character even there? We are not in any way convinced that Joe is heroic -- I mean he flies a plane, and saved one person (Polly) for personal reasons. Yeah there's a great hero for you. Dex has very little screen time, so why are we supposed to care about Joe wanting to save him? Who were the Nepalease that locked Joe and Polly in the mine vault, and why would they do it (remembering that the entire Totenkopf operation was robotic)?<br /><br />Plot holes: (1) Why did Bai Ling's character (a major fall from her excellent character in \"The Crow\") halt the robots who had captured Joe? They were looking for the vials, and had not found them. (2) Why in the hell would Dex be captured but not killed (he doesn't have or know about the vials, and the bad guys didn't know that Polly had the vials and was connected to Joe and therefore to Dex)? (3) Polly indicates that \"they\" don't know anything about Totenkopf, yet she has some secret source about him that contains what appears to be a fairly complete FBI-style file on him. (4) The blank spot on the map as described by the Nepalese -- if they know all about this mysterious area, then why the hell is their map blank in that spot? (5) At one point, Polly and Joe have to give up their clothes (they are burned) -- Joe is given new clothes that were identical to his old clothes, yet Polly is forced to wear some very odd looking bulky dress, then in the same line of continuity suddenly Polly has her original clothes back.<br /><br />*sigh*. How far off am I supposed to switch my brain to watch this crap?<br /><br />We are supposed to be exhilarated by the over produced music, even when nothing interesting or remotely exhilarating is happening on screen.<br /><br />And the acting? We're supposed to be impressed with a bunch of bad British accents? Which character isn't annoying? I think Ling Bai's dialogue was probably the best in the whole movie (she doesn't have a single line). The dialogue wasn't camp, and doesn't even rise to the level of cheese. Its just bad and annoying. These people aren't hero's or compelling; they are the kind of people you would try to ignore or disassociate with if you ever had the misfortune of meeting them in real life.<br /><br />I can't believe that this movie gets an above average rating here on IMDb. IMHO it should be competing with \"Batman Forever\" in the bottom 100 of all time.   \n",
       "\n",
       "      true_label  predicted_y  neg_label_prob  pos_label_prob  \n",
       "8297           0            0             1.0    6.052936e-10  \n",
       "5254           0            0             1.0    1.835450e-09  \n",
       "8716           0            0             1.0    3.343219e-09  \n",
       "8992           0            0             1.0    1.656031e-08  \n",
       "7971           0            0             1.0    1.900244e-08  "
      ]
     },
     "execution_count": 107,
     "metadata": {},
     "output_type": "execute_result"
    }
   ],
   "source": [
    "result_df.sort_values(['neg_label_prob'],ascending=False).head(5)"
   ]
  },
  {
   "cell_type": "markdown",
   "metadata": {
    "tags": []
   },
   "source": [
    "### 3.7 Looking at uncertain reviews\n",
    "rubric={accuracy:2}\n",
    "\n",
    "<div class=\"alert alert-info\" style=\"color:black\">\n",
    "    \n",
    "Find the 5 movie reviews in the test set with the most divided probability of being negative or positive (i.e., where the model is least confident in either review sentiment).\n",
    "\n",
    "What do you think could contribute to the model being confused for how to score a review?\n",
    "    \n",
    "</div>"
   ]
  },
  {
   "cell_type": "code",
   "execution_count": 108,
   "metadata": {},
   "outputs": [
    {
     "data": {
      "text/html": [
       "<div>\n",
       "<style scoped>\n",
       "    .dataframe tbody tr th:only-of-type {\n",
       "        vertical-align: middle;\n",
       "    }\n",
       "\n",
       "    .dataframe tbody tr th {\n",
       "        vertical-align: top;\n",
       "    }\n",
       "\n",
       "    .dataframe thead th {\n",
       "        text-align: right;\n",
       "    }\n",
       "</style>\n",
       "<table border=\"1\" class=\"dataframe\">\n",
       "  <thead>\n",
       "    <tr style=\"text-align: right;\">\n",
       "      <th></th>\n",
       "      <th>review</th>\n",
       "      <th>true_label</th>\n",
       "      <th>predicted_y</th>\n",
       "      <th>neg_label_prob</th>\n",
       "      <th>pos_label_prob</th>\n",
       "      <th>difference</th>\n",
       "    </tr>\n",
       "  </thead>\n",
       "  <tbody>\n",
       "    <tr>\n",
       "      <th>102</th>\n",
       "      <td>Having had more than a few mates suggest i check Rise of the Footsoldier out, i eventually got round to it last night. Undoubtedly the story Colton Leach has to tell (and did so in his autobiography) is a compelling tale of one mans ascent from Terrace boot boy to connected underworld villain. This film sadly compromised in quality by miscasts, appalling accents and woeful acting.Ricci Harnett in the lead role of Leach does a reasonable job of conveying the transition from thuggery to serious criminal but his accent is all over the place. As his voice provides the stories narration it is something that after ten minutes was driving me nuts. Terry Stone as Tony Tucker provided the unintentional comedy with an ill fitting wig (or the worst Barnett going)dialogue that was so expletive riddled it bordered on juvenile and an over the top vehemence in line delivery reducing Tucker to parody.What troubled me most about this film was that the events leading up to the shooting in Rettenden, Essex and the formative years of Leach are of genuine interest to crime fans and fans of football hooliganism so, to have this story sabotaged by a lack of credible accents and acting left me feeling an opportunity had been missed. Roland Manookian and Frank Harper provide the films only source of authenticity. On the positive side some of the films pacing and construct flowed well and kept the attention. The violence was well choreographed and aside from an over reliance on projectile red syrup for blood spatterings was on the whole realistic. If you enjoyed the film then it is worth checking out Essex Boys telling a similar tale from fictionalised viewpoint and also featuring Billy Murray.</td>\n",
       "      <td>0</td>\n",
       "      <td>1</td>\n",
       "      <td>0.499484</td>\n",
       "      <td>0.500516</td>\n",
       "      <td>0.001033</td>\n",
       "    </tr>\n",
       "    <tr>\n",
       "      <th>18867</th>\n",
       "      <td>Loved the movie. I even liked most of the actors in it. But, for me Ms. Davis' very poor attempt at an accent, and her stiff acting really makes an otherwise compelling movie very hard to watch. Seriously if any other modern actor played the same role with the same style as Ms. Davis they would be laughed off the screen.&lt;br /&gt;&lt;br /&gt;I really think she 'phoned this one in'. Now if it had Myrna Loy or Ingrid Bergman playing the part of the wife I would have enjoyed it much more.&lt;br /&gt;&lt;br /&gt;I guess I just don't 'get' Bette Davis. I've always thought of her as an actor that 'plays herself' no matter what role she's in. The possible exception is Now Voyager.&lt;br /&gt;&lt;br /&gt;I'm sure many of the other reviewers will explain in careful (and I hope civil) detail how I am totally wrong on this. But, I'll continue to watch the movies she's in because I like the stories/writing/supporting casts, but, I'll always be thinking, of different actresses that could have done a better job.</td>\n",
       "      <td>1</td>\n",
       "      <td>0</td>\n",
       "      <td>0.500702</td>\n",
       "      <td>0.499298</td>\n",
       "      <td>0.001404</td>\n",
       "    </tr>\n",
       "    <tr>\n",
       "      <th>5475</th>\n",
       "      <td>I watched Phat Beach on cable for a while and I sort of enjoyed it. The fat guy is the best character, as he seems to be a nice guy. The rest of the characters are just various stereotypes of young men and young black men. I like to watch these low budget movies that capture a period of time because they are almost like a documentary of the year's attitudes and fads. Phat Beach is also funny because the low-budget babes in this movie are strictly home-girls. Most low-budget movies have that \"local babe\" quality, and you can tell the babes in this movie were the local strippers and underwear models for JC Penneys. Some of them had so much cellulite hanging from their bikinis that it was funny to watch how the \"youngsters\" went wild over what was essentially some really over-used, high-mileage skank. There were some cuties too. That is the charm of these low-budget crappy movies. You will see a lot of doggies, and some real cuties! I checked up on some of them at IMDb and seven years later Phat Beach is their only credit. Too bad. It would be interesting if someone ever managed to do a \"Where are they now\" book on all of the cuties that have appeared in the history of movies and then were never again to return. What happened?? There are probably one or two young people in almost every movie who seem to have a lot going for them and yet years later when you see the movie again on TV you wonder \"what ever happened to X?\" Anyhow, this movie mostly blows, but it has some funny moments.</td>\n",
       "      <td>0</td>\n",
       "      <td>1</td>\n",
       "      <td>0.499110</td>\n",
       "      <td>0.500890</td>\n",
       "      <td>0.001781</td>\n",
       "    </tr>\n",
       "    <tr>\n",
       "      <th>8491</th>\n",
       "      <td>If you liked the first two films, then I'm sorry to say you're not going to like this one. This is the really rubbish and unnecessary straight to video, probably TV made sequel. The still idiotic but nice scientist Wayne Szalinski (Rick Moranis) is still living with his family and he has his own company, Szalinski Inc. Unfortunately his wife wants to get rid of a statue, Wayne is so stupid he shrinks his statue and himself with his brother. Then he shrinks his wife and sister-in-law too. Now the adults have to find a way to get the kids of the house to get them bigger. Pretty much a repeat of the other two with only one or two new things, e.g. a toy car roller coaster, swimming in dip, etc. Pretty poor!</td>\n",
       "      <td>0</td>\n",
       "      <td>0</td>\n",
       "      <td>0.501497</td>\n",
       "      <td>0.498503</td>\n",
       "      <td>0.002994</td>\n",
       "    </tr>\n",
       "    <tr>\n",
       "      <th>960</th>\n",
       "      <td>Sappy.&lt;br /&gt;&lt;br /&gt;I liked how they went to the \"Haaavaad baaa\" to quote books at each other to impress the ugliest girl there.&lt;br /&gt;&lt;br /&gt;Probably the janitor at my school is a genius too but is waiting to land that big construction job.&lt;br /&gt;&lt;br /&gt;Just because you keep your nose to the grindstone is no reason to try to cut a steak with it. \"Do you like apples?\"&lt;br /&gt;&lt;br /&gt;the guy nods or something.&lt;br /&gt;&lt;br /&gt;\"Well, how'd ya like DEM APPLES!\" Wow, that IS genius.&lt;br /&gt;&lt;br /&gt;Duh, Minnie Driver would give her number to anybody. Robin Williams can't paint and keeps the good books on the top shelf. And there's a professor who always wears a priest scarf for no reason.</td>\n",
       "      <td>0</td>\n",
       "      <td>0</td>\n",
       "      <td>0.501848</td>\n",
       "      <td>0.498152</td>\n",
       "      <td>0.003695</td>\n",
       "    </tr>\n",
       "  </tbody>\n",
       "</table>\n",
       "</div>"
      ],
      "text/plain": [
       "                                                                                                                                                                                                                                                                                                                                                                                                                                                                                                                                                                                                                                                                                                                                                                                                                                                                                                                                                                                                                                                                                                                                                                                                                                                                                                                                                                                                                                                                                                                                                                                                                                                                                                                                                                  review  \\\n",
       "102    Having had more than a few mates suggest i check Rise of the Footsoldier out, i eventually got round to it last night. Undoubtedly the story Colton Leach has to tell (and did so in his autobiography) is a compelling tale of one mans ascent from Terrace boot boy to connected underworld villain. This film sadly compromised in quality by miscasts, appalling accents and woeful acting.Ricci Harnett in the lead role of Leach does a reasonable job of conveying the transition from thuggery to serious criminal but his accent is all over the place. As his voice provides the stories narration it is something that after ten minutes was driving me nuts. Terry Stone as Tony Tucker provided the unintentional comedy with an ill fitting wig (or the worst Barnett going)dialogue that was so expletive riddled it bordered on juvenile and an over the top vehemence in line delivery reducing Tucker to parody.What troubled me most about this film was that the events leading up to the shooting in Rettenden, Essex and the formative years of Leach are of genuine interest to crime fans and fans of football hooliganism so, to have this story sabotaged by a lack of credible accents and acting left me feeling an opportunity had been missed. Roland Manookian and Frank Harper provide the films only source of authenticity. On the positive side some of the films pacing and construct flowed well and kept the attention. The violence was well choreographed and aside from an over reliance on projectile red syrup for blood spatterings was on the whole realistic. If you enjoyed the film then it is worth checking out Essex Boys telling a similar tale from fictionalised viewpoint and also featuring Billy Murray.   \n",
       "18867                                                                                                                                                                                                                                                                                                                                                                                                                                                                                                                                                                                                                                                                                                                                                Loved the movie. I even liked most of the actors in it. But, for me Ms. Davis' very poor attempt at an accent, and her stiff acting really makes an otherwise compelling movie very hard to watch. Seriously if any other modern actor played the same role with the same style as Ms. Davis they would be laughed off the screen.<br /><br />I really think she 'phoned this one in'. Now if it had Myrna Loy or Ingrid Bergman playing the part of the wife I would have enjoyed it much more.<br /><br />I guess I just don't 'get' Bette Davis. I've always thought of her as an actor that 'plays herself' no matter what role she's in. The possible exception is Now Voyager.<br /><br />I'm sure many of the other reviewers will explain in careful (and I hope civil) detail how I am totally wrong on this. But, I'll continue to watch the movies she's in because I like the stories/writing/supporting casts, but, I'll always be thinking, of different actresses that could have done a better job.   \n",
       "5475                                                                                                                                                                                                    I watched Phat Beach on cable for a while and I sort of enjoyed it. The fat guy is the best character, as he seems to be a nice guy. The rest of the characters are just various stereotypes of young men and young black men. I like to watch these low budget movies that capture a period of time because they are almost like a documentary of the year's attitudes and fads. Phat Beach is also funny because the low-budget babes in this movie are strictly home-girls. Most low-budget movies have that \"local babe\" quality, and you can tell the babes in this movie were the local strippers and underwear models for JC Penneys. Some of them had so much cellulite hanging from their bikinis that it was funny to watch how the \"youngsters\" went wild over what was essentially some really over-used, high-mileage skank. There were some cuties too. That is the charm of these low-budget crappy movies. You will see a lot of doggies, and some real cuties! I checked up on some of them at IMDb and seven years later Phat Beach is their only credit. Too bad. It would be interesting if someone ever managed to do a \"Where are they now\" book on all of the cuties that have appeared in the history of movies and then were never again to return. What happened?? There are probably one or two young people in almost every movie who seem to have a lot going for them and yet years later when you see the movie again on TV you wonder \"what ever happened to X?\" Anyhow, this movie mostly blows, but it has some funny moments.   \n",
       "8491                                                                                                                                                                                                                                                                                                                                                                                                                                                                                                                                                                                                                                                                                                                                                                                                                                                                                                                                                                                                                            If you liked the first two films, then I'm sorry to say you're not going to like this one. This is the really rubbish and unnecessary straight to video, probably TV made sequel. The still idiotic but nice scientist Wayne Szalinski (Rick Moranis) is still living with his family and he has his own company, Szalinski Inc. Unfortunately his wife wants to get rid of a statue, Wayne is so stupid he shrinks his statue and himself with his brother. Then he shrinks his wife and sister-in-law too. Now the adults have to find a way to get the kids of the house to get them bigger. Pretty much a repeat of the other two with only one or two new things, e.g. a toy car roller coaster, swimming in dip, etc. Pretty poor!   \n",
       "960                                                                                                                                                                                                                                                                                                                                                                                                                                                                                                                                                                                                                                                                                                                                                                                                                                                                                                                                                                                                                                                                    Sappy.<br /><br />I liked how they went to the \"Haaavaad baaa\" to quote books at each other to impress the ugliest girl there.<br /><br />Probably the janitor at my school is a genius too but is waiting to land that big construction job.<br /><br />Just because you keep your nose to the grindstone is no reason to try to cut a steak with it. \"Do you like apples?\"<br /><br />the guy nods or something.<br /><br />\"Well, how'd ya like DEM APPLES!\" Wow, that IS genius.<br /><br />Duh, Minnie Driver would give her number to anybody. Robin Williams can't paint and keeps the good books on the top shelf. And there's a professor who always wears a priest scarf for no reason.   \n",
       "\n",
       "       true_label  predicted_y  neg_label_prob  pos_label_prob  difference  \n",
       "102             0            1        0.499484        0.500516    0.001033  \n",
       "18867           1            0        0.500702        0.499298    0.001404  \n",
       "5475            0            1        0.499110        0.500890    0.001781  \n",
       "8491            0            0        0.501497        0.498503    0.002994  \n",
       "960             0            0        0.501848        0.498152    0.003695  "
      ]
     },
     "execution_count": 108,
     "metadata": {},
     "output_type": "execute_result"
    }
   ],
   "source": [
    "result_df['difference'] = abs(result_df['neg_label_prob']-result_df['pos_label_prob'])\n",
    "result_df.sort_values(['difference'],ascending=True).head(5)"
   ]
  },
  {
   "cell_type": "markdown",
   "metadata": {},
   "source": [
    "### 3.8 Looking at wrongly predicted reviews\n",
    "rubric={accuracy:1,reasoning:1}\n",
    "\n",
    "<div class=\"alert alert-info\" style=\"color:black\">\n",
    "    \n",
    "Examine a review from the test set where our `best_model` is making mistakes, i.e., where the true labels do not match the predicted labels. \n",
    "\n",
    "What do you think could contribute to the model making an incorrect classification for a review?\n",
    "    \n",
    "</div>"
   ]
  },
  {
   "cell_type": "code",
   "execution_count": 109,
   "metadata": {},
   "outputs": [
    {
     "data": {
      "text/html": [
       "<div>\n",
       "<style scoped>\n",
       "    .dataframe tbody tr th:only-of-type {\n",
       "        vertical-align: middle;\n",
       "    }\n",
       "\n",
       "    .dataframe tbody tr th {\n",
       "        vertical-align: top;\n",
       "    }\n",
       "\n",
       "    .dataframe thead th {\n",
       "        text-align: right;\n",
       "    }\n",
       "</style>\n",
       "<table border=\"1\" class=\"dataframe\">\n",
       "  <thead>\n",
       "    <tr style=\"text-align: right;\">\n",
       "      <th></th>\n",
       "      <th>review</th>\n",
       "      <th>true_label</th>\n",
       "      <th>predicted_y</th>\n",
       "      <th>neg_label_prob</th>\n",
       "      <th>pos_label_prob</th>\n",
       "      <th>difference</th>\n",
       "    </tr>\n",
       "  </thead>\n",
       "  <tbody>\n",
       "    <tr>\n",
       "      <th>11628</th>\n",
       "      <td>And that's saying a lot. Rent this if you want to be staggered by oddness, blown away by one of the most bizarre scripts, direction, and casting in the history of films. I'm staggered. I can't believe I watched it. I'm a big Bernadette Peters fan, normally- but this tested my resolve. Don't read any more reviews here, it's best if you know nothing about the plot. Just rent it. You won't believe what you're seeing.......</td>\n",
       "      <td>1</td>\n",
       "      <td>0</td>\n",
       "      <td>0.778178</td>\n",
       "      <td>0.221822</td>\n",
       "      <td>0.556356</td>\n",
       "    </tr>\n",
       "    <tr>\n",
       "      <th>9082</th>\n",
       "      <td>A ditzy girl (yes, ditzy is about as complex as her character gets) won't take no for an answer and does quirky things to get her husband back. It's too far-fetched to be believable with such flimsy characters going through the motions. But not far-fetched enough to be fascinating in the way that say, Being John Malkovich, was. So it ends up boring.&lt;br /&gt;&lt;br /&gt;sv</td>\n",
       "      <td>0</td>\n",
       "      <td>1</td>\n",
       "      <td>0.478535</td>\n",
       "      <td>0.521465</td>\n",
       "      <td>0.042931</td>\n",
       "    </tr>\n",
       "    <tr>\n",
       "      <th>2481</th>\n",
       "      <td>'Maladolescenza' has the air of a dark fairy tale, with its child protagonists, forest setting, and the discovery of a castle's ruins. Yet at its core, the film is essentially an unusual psychosexual study of adolescents. Opening with a dream sequence employing the not-so-subtle metaphor of Fabrizio wrestling with his menacing hound, the film details his psychological persecution of Laura, the girl who has pledged her love to him, and his eventual romance with the equally malicious Sylvia. The film's psychological complexities do give the film merit, yet there's no doubting how unnecessarily exploitive the film is in its depiction of nudity and sex. The film's look relies more on its gorgeous locations rather than particular cinematographic skill, and there's no doubting the film's greatest asset is the creepy, children's choir-augmented soundtrack. With its odd dreamlike quality, the film is at best interesting, yet pales beside Louis Malle's surreal and brilliant 'Black Moon' from the same era. Certainly deserving of the art versus pornography debate, for unlike many banned films, Pasolini's 'Salo' or Larry Clark's 'Ken Park' for instance, the film is rather unremarkable from an artistic perspective. Cinema seems to be gradually losing its ability to shock, so perhaps 'Maladolescenza' should be admired for retaining that power thirty years after its release. However shock value is the one reason alone the film is memorable. &lt;br /&gt;&lt;br /&gt;The film does have its defenders. Yet so does Nazism.</td>\n",
       "      <td>0</td>\n",
       "      <td>1</td>\n",
       "      <td>0.007920</td>\n",
       "      <td>0.992080</td>\n",
       "      <td>0.984161</td>\n",
       "    </tr>\n",
       "    <tr>\n",
       "      <th>2756</th>\n",
       "      <td>Was this movie stupid? Yup. Did this movie depth? Nope. Character development? Nope. Plot twists? Nope. This was simply a movie about a highly-fictionalized Springer show. It shows the lengths that some people will go to get their mugs on TV. Molly Hagan did a great job as Jaime Pressly's mom. Jaime is....well...GORGEOUS! This flick wasn't so much made to be a \"breakthrough\" movie, rather, it was intended to life in a trailer park (I live in a trailer park and ours is nothing like the one in this movie) where everyone sleeps with everyone else, all the girls get pregnant by different guys, and all the guys drive rusted-out '66 Ford pickups (exaggeration, of course, but that's the picture everyone sees when you mention \"trailer park\"). Some people over-analyze movies (case-in-point: Star Trek freaks). I watch movies purely for the entertainment value; not to point out that the girl is wearing a different shirt in a different scene (read the \"Goofs\" bit about Connie's shirt. Could it have been better? Sure. But it was funny as hell.</td>\n",
       "      <td>0</td>\n",
       "      <td>1</td>\n",
       "      <td>0.195739</td>\n",
       "      <td>0.804261</td>\n",
       "      <td>0.608522</td>\n",
       "    </tr>\n",
       "    <tr>\n",
       "      <th>2506</th>\n",
       "      <td>This sequel to \"In the Heat of the Night\" will suffer in inevitable comparisons to its infinitely better predecessor. Instead of looking like a theatrical movie edited for television, \"Mister Tibbs\" looks suspiciously like a TV movie edited for theatrical release, with grainy photography, cheesy opening titles, and sets that look like they're made of plywood. The murder sequence has a glaring continuity error: the camera shows two hands choking the girl, then a shot of a hand reaching for a statuette, then a shot of the girl being choked with two hands again, and finally the statuette coming down for the fatal blow. Solving the case should be easy: find the only guy with three hands! But the shoddy production values can't completely obscure this film's considerable merits: namely, Sidney Poitier's performance as the cool detective determined to follow the evidence wherever it may lead, even if it implicates a friend. Martin Landau is also convincing as the do-gooder preacher-activist suspected of brutally murdering his prostitute girlfriend. In addition to being haunted by the case, Tibbs is conflicted about his home life, but the issues of race and Tibbs' barely concealed sense of social outrage are absent here. So is the complex murder mystery that made \"In the Heat of the Night\" so compelling.</td>\n",
       "      <td>0</td>\n",
       "      <td>1</td>\n",
       "      <td>0.400838</td>\n",
       "      <td>0.599162</td>\n",
       "      <td>0.198324</td>\n",
       "    </tr>\n",
       "    <tr>\n",
       "      <th>...</th>\n",
       "      <td>...</td>\n",
       "      <td>...</td>\n",
       "      <td>...</td>\n",
       "      <td>...</td>\n",
       "      <td>...</td>\n",
       "      <td>...</td>\n",
       "    </tr>\n",
       "    <tr>\n",
       "      <th>12312</th>\n",
       "      <td>I would have rated the series a perfect 10 for outstanding and consistently high quality story and character development had it not been for the last episode of Season 10! &lt;br /&gt;&lt;br /&gt;The final episode of the 10th season \"Unending\", where (it would certainly appear that) the Asgard have been killed-off in a very rushed, unconvincing and very unceremonious fashion, left me in disbelief! &lt;br /&gt;&lt;br /&gt;From the extremely rushed end of the series, it's obvious that many of the story arcs were originally scheduled to occur over at least one more season. My guess would be that they rapidly accelerated these stories to position the Stargate SG-1 franchise for the two upcoming direct-to-DVD moves!&lt;br /&gt;&lt;br /&gt;Unless the Asgard return in a future SG-1 movie (with a very good explanation of the \"apparent\" extinction), I think that the fans have been cheated with a poor clean-up of loose-ends!&lt;br /&gt;&lt;br /&gt;Poor end to an otherwise brilliant sci-fi series.</td>\n",
       "      <td>1</td>\n",
       "      <td>0</td>\n",
       "      <td>0.590683</td>\n",
       "      <td>0.409317</td>\n",
       "      <td>0.181365</td>\n",
       "    </tr>\n",
       "    <tr>\n",
       "      <th>4556</th>\n",
       "      <td>Michael Callan plays a smarmy photographer who seems, nonetheless, to be regarded as a perfect \"catch\" by any woman that runs across him; could this have anything to do with the fact that he also co-produced the film? He's a \"hero\" whom it's very difficult to empathize with, so the movie is in trouble right from the start. However, it's troubles don't end there. It has the production values of a TV-movie (check out that head made of clay or something, near the end), and the ending cheats in a way that I can't reveal, in case anyone wants to see the movie (highly unlikely). Let's just say that the killer knows more than we were let to know he knows. (*1/2)</td>\n",
       "      <td>0</td>\n",
       "      <td>1</td>\n",
       "      <td>0.222534</td>\n",
       "      <td>0.777466</td>\n",
       "      <td>0.554931</td>\n",
       "    </tr>\n",
       "    <tr>\n",
       "      <th>10934</th>\n",
       "      <td>Don't ask me why I love this movie so much...Maybe it came at a time in my life I desperately wanted to fit in, maybe it is the amazing monster effects, maybe because I enjoyed the novel \"Cabal\", but It's probably because I LOVE Clive Barker. I think it's fair to warn you the movie and the novel have no true resolve and like me you'll probably have a WTF moment at the end. At least two sequels were planned but never came about due to the fact the movie flopped for a few reasons. The studio made drastic cuts to the film cutting a good 30 or so minutes out of it and they did a HORRIBLE job promoting it. The adverts made it look like just another cheap slasher showing mainly the \"Button face/Mask\" Decker character. This is a movie about the monsters! About fantasy! About a place called Midian! It's a story where the monsters are the good guys. There is truly nothing else out there like it! It's not a movie for everybody I suppose but it stands as one of Clive's many great works. Sit back and be prepared to be taken to Midian - where the monsters are.</td>\n",
       "      <td>1</td>\n",
       "      <td>0</td>\n",
       "      <td>0.618488</td>\n",
       "      <td>0.381512</td>\n",
       "      <td>0.236975</td>\n",
       "    </tr>\n",
       "    <tr>\n",
       "      <th>13586</th>\n",
       "      <td>Well, this is new...Famous Italian horror director Lucio Fulci shoots a film about a famous Italian horror director called...Lucio Fulci. After years and years of witnessing gruesome horror sequences, it becomes hard for Lucio to separate reality from fiction and he often hallucinates about committing violent murders. He quickly descends further into a seemly endless spiral of madness and unverifiable venom. Even the dedicated psychiatrist can't seem to keep Fulci on the right track... Now, when it comes to pure fun and entertainment value, Cat in the Brain certainly is one of Fulci's most pleasant films. The gore is overpowering and copious, to say the least. The amount of filthy massacres is impossible to describe, especially when you manage to get your hands on the fully uncut version (referred to with the aka:\"Nightmare Concert\"). Decapitations all around, victims ' intestines are spread on all sides of the screen and the chainsaws are working overtime! The film also becomes unintentionally funny quite soon (since it's so exaggerated) and a perfect experience to watch with a group of friends when there's beer in the fridge. Of course, from a more professional viewpoint, this production can't exactly be called a masterpiece! There's not the least bit of tension or atmosphere to detect and the characters are completely empty-headed. In order to make more room for the gore, characters are just being introduced for 5 seconds and subsequently die a horrible death. Especially compared with Fulci's highlights - like \"The Beyond\" or \"Don't Torture a Duckling\" - this film looks like a quickly warmed up snack. The best way to interpret \"Cat in the Brain\" is like a personal statement made by Fulci and a direct attack towards censorship. Perhaps after seeing so many of his films Â? especially the latter ones Â? being cut by censorship committees and bashed by pseudo-artistic critics, he wanted to avenge himself by delivering a gory mess that simply can't be cut! If you take out all the explicit violence and the truly sick make-up effects, you only got about 10 minutes of footage left! Especially because the insane killings re-occur later in the film as Fulci hallucinates about them again. You can almost hear our director think stuff like: \"Let's see how you're going to censor this now!\" Even the entire development of the murder investigation happens in the background. Are the victims missed by any of their friends or relatives? Are there any police officers looking for clues that'll lead them to the killer? You don't know and Lucio doesn't bother to inform you about that, because that would lead to sequences that don't require cutting. Oh, and it's pretty damn pretentious as well! The name \"Mr. Fulci\" or even \"Lucio\" is mentioned every 3 minutes (34 times throughout the entire movie, to be exact) and our director clearly enjoys being in the spotlights for a change. Hey, I certainly don't blame him...After over 30 years of delivering amusing movies; he deserved to have a little extra fun. You're a God, Mr. Fulci!</td>\n",
       "      <td>1</td>\n",
       "      <td>0</td>\n",
       "      <td>0.607903</td>\n",
       "      <td>0.392097</td>\n",
       "      <td>0.215805</td>\n",
       "    </tr>\n",
       "    <tr>\n",
       "      <th>12216</th>\n",
       "      <td>For all the Homicide junkies out there, this movie was great! Every single character that ever was on the show made an appearance in the movie. It helped to resolve some (but not all) issues from the series. Unfortunately, unless you actually did watch the series, most of the enjoyment would be lost, as the movie made heavy references to every season of the show's existence. This probably would have been appropriate as a series finale as opposed to being a separate movie, but we gotta take what we can get. I hope they make more movies, and continue to feature Homicide characters on Law and Order.</td>\n",
       "      <td>1</td>\n",
       "      <td>0</td>\n",
       "      <td>0.731939</td>\n",
       "      <td>0.268061</td>\n",
       "      <td>0.463878</td>\n",
       "    </tr>\n",
       "  </tbody>\n",
       "</table>\n",
       "<p>489 rows × 6 columns</p>\n",
       "</div>"
      ],
      "text/plain": [
       "                                                                                                                                                                                                                                                                                                                                                                                                                                                                                                                                                                                                                                                                                                                                                                                                                                                                                                                                                                                                                                                                                                                                                                                                                                                                                                                                                                                                                                                                                                                                                                                                                                                                                                                                                                                                                                                                                                                                                                                                                                                                                                                                                                                                                                                                                                                                                                                                                                                                                                                                                                                                                                                                                                                                                                                                                                                                                                                                                                                                                                                                                                                                                                                    review  \\\n",
       "11628                                                                                                                                                                                                                                                                                                                                                                                                                                                                                                                                                                                                                                                                                                                                                                                                                                                                                                                                                                                                                                                                                                                                                                                                                                                                                                                                                                                                                                                                                                                                                                                                                                                                                                                                                                                                                                                                                                                                                                                                                                                                                                                                                                                                                                                                                                                                                                                                                                                                                                                                                                                                                                                                                                                                              And that's saying a lot. Rent this if you want to be staggered by oddness, blown away by one of the most bizarre scripts, direction, and casting in the history of films. I'm staggered. I can't believe I watched it. I'm a big Bernadette Peters fan, normally- but this tested my resolve. Don't read any more reviews here, it's best if you know nothing about the plot. Just rent it. You won't believe what you're seeing.......   \n",
       "9082                                                                                                                                                                                                                                                                                                                                                                                                                                                                                                                                                                                                                                                                                                                                                                                                                                                                                                                                                                                                                                                                                                                                                                                                                                                                                                                                                                                                                                                                                                                                                                                                                                                                                                                                                                                                                                                                                                                                                                                                                                                                                                                                                                                                                                                                                                                                                                                                                                                                                                                                                                                                                                                                                                                                                                                                         A ditzy girl (yes, ditzy is about as complex as her character gets) won't take no for an answer and does quirky things to get her husband back. It's too far-fetched to be believable with such flimsy characters going through the motions. But not far-fetched enough to be fascinating in the way that say, Being John Malkovich, was. So it ends up boring.<br /><br />sv   \n",
       "2481                                                                                                                                                                                                                                                                                                                                                                                                                                                                                                                                                                                                                                                                                                                                                                                                                                                                                                                                                                                                                                                                                                                                                                                                                                                                                                                                                                                                                                                                                                                                                                                                           'Maladolescenza' has the air of a dark fairy tale, with its child protagonists, forest setting, and the discovery of a castle's ruins. Yet at its core, the film is essentially an unusual psychosexual study of adolescents. Opening with a dream sequence employing the not-so-subtle metaphor of Fabrizio wrestling with his menacing hound, the film details his psychological persecution of Laura, the girl who has pledged her love to him, and his eventual romance with the equally malicious Sylvia. The film's psychological complexities do give the film merit, yet there's no doubting how unnecessarily exploitive the film is in its depiction of nudity and sex. The film's look relies more on its gorgeous locations rather than particular cinematographic skill, and there's no doubting the film's greatest asset is the creepy, children's choir-augmented soundtrack. With its odd dreamlike quality, the film is at best interesting, yet pales beside Louis Malle's surreal and brilliant 'Black Moon' from the same era. Certainly deserving of the art versus pornography debate, for unlike many banned films, Pasolini's 'Salo' or Larry Clark's 'Ken Park' for instance, the film is rather unremarkable from an artistic perspective. Cinema seems to be gradually losing its ability to shock, so perhaps 'Maladolescenza' should be admired for retaining that power thirty years after its release. However shock value is the one reason alone the film is memorable. <br /><br />The film does have its defenders. Yet so does Nazism.   \n",
       "2756                                                                                                                                                                                                                                                                                                                                                                                                                                                                                                                                                                                                                                                                                                                                                                                                                                                                                                                                                                                                                                                                                                                                                                                                                                                                                                                                                                                                                                                                                                                                                                                                                                                                                                                                                                                                                                                                                                                                                                                                                                                                                                Was this movie stupid? Yup. Did this movie depth? Nope. Character development? Nope. Plot twists? Nope. This was simply a movie about a highly-fictionalized Springer show. It shows the lengths that some people will go to get their mugs on TV. Molly Hagan did a great job as Jaime Pressly's mom. Jaime is....well...GORGEOUS! This flick wasn't so much made to be a \"breakthrough\" movie, rather, it was intended to life in a trailer park (I live in a trailer park and ours is nothing like the one in this movie) where everyone sleeps with everyone else, all the girls get pregnant by different guys, and all the guys drive rusted-out '66 Ford pickups (exaggeration, of course, but that's the picture everyone sees when you mention \"trailer park\"). Some people over-analyze movies (case-in-point: Star Trek freaks). I watch movies purely for the entertainment value; not to point out that the girl is wearing a different shirt in a different scene (read the \"Goofs\" bit about Connie's shirt. Could it have been better? Sure. But it was funny as hell.   \n",
       "2506                                                                                                                                                                                                                                                                                                                                                                                                                                                                                                                                                                                                                                                                                                                                                                                                                                                                                                                                                                                                                                                                                                                                                                                                                                                                                                                                                                                                                                                                                                                                                                                                                                                                                                                                                                                                                 This sequel to \"In the Heat of the Night\" will suffer in inevitable comparisons to its infinitely better predecessor. Instead of looking like a theatrical movie edited for television, \"Mister Tibbs\" looks suspiciously like a TV movie edited for theatrical release, with grainy photography, cheesy opening titles, and sets that look like they're made of plywood. The murder sequence has a glaring continuity error: the camera shows two hands choking the girl, then a shot of a hand reaching for a statuette, then a shot of the girl being choked with two hands again, and finally the statuette coming down for the fatal blow. Solving the case should be easy: find the only guy with three hands! But the shoddy production values can't completely obscure this film's considerable merits: namely, Sidney Poitier's performance as the cool detective determined to follow the evidence wherever it may lead, even if it implicates a friend. Martin Landau is also convincing as the do-gooder preacher-activist suspected of brutally murdering his prostitute girlfriend. In addition to being haunted by the case, Tibbs is conflicted about his home life, but the issues of race and Tibbs' barely concealed sense of social outrage are absent here. So is the complex murder mystery that made \"In the Heat of the Night\" so compelling.   \n",
       "...                                                                                                                                                                                                                                                                                                                                                                                                                                                                                                                                                                                                                                                                                                                                                                                                                                                                                                                                                                                                                                                                                                                                                                                                                                                                                                                                                                                                                                                                                                                                                                                                                                                                                                                                                                                                                                                                                                                                                                                                                                                                                                                                                                                                                                                                                                                                                                                                                                                                                                                                                                                                                                                                                                                                                                                                                                                                                                                                                                                                                                                                                                                                                                                    ...   \n",
       "12312                                                                                                                                                                                                                                                                                                                                                                                                                                                                                                                                                                                                                                                                                                                                                                                                                                                                                                                                                                                                                                                                                                                                                                                                                                                                                                                                                                                                                                                                                                                                                                                                                                                                                                                                                                                                                                                                                                                                                                                                                                                                                                                                                                                            I would have rated the series a perfect 10 for outstanding and consistently high quality story and character development had it not been for the last episode of Season 10! <br /><br />The final episode of the 10th season \"Unending\", where (it would certainly appear that) the Asgard have been killed-off in a very rushed, unconvincing and very unceremonious fashion, left me in disbelief! <br /><br />From the extremely rushed end of the series, it's obvious that many of the story arcs were originally scheduled to occur over at least one more season. My guess would be that they rapidly accelerated these stories to position the Stargate SG-1 franchise for the two upcoming direct-to-DVD moves!<br /><br />Unless the Asgard return in a future SG-1 movie (with a very good explanation of the \"apparent\" extinction), I think that the fans have been cheated with a poor clean-up of loose-ends!<br /><br />Poor end to an otherwise brilliant sci-fi series.   \n",
       "4556                                                                                                                                                                                                                                                                                                                                                                                                                                                                                                                                                                                                                                                                                                                                                                                                                                                                                                                                                                                                                                                                                                                                                                                                                                                                                                                                                                                                                                                                                                                                                                                                                                                                                                                                                                                                                                                                                                                                                                                                                                                                                                                                                                                                                                                                                                                                                                                                                                                                                               Michael Callan plays a smarmy photographer who seems, nonetheless, to be regarded as a perfect \"catch\" by any woman that runs across him; could this have anything to do with the fact that he also co-produced the film? He's a \"hero\" whom it's very difficult to empathize with, so the movie is in trouble right from the start. However, it's troubles don't end there. It has the production values of a TV-movie (check out that head made of clay or something, near the end), and the ending cheats in a way that I can't reveal, in case anyone wants to see the movie (highly unlikely). Let's just say that the killer knows more than we were let to know he knows. (*1/2)   \n",
       "10934                                                                                                                                                                                                                                                                                                                                                                                                                                                                                                                                                                                                                                                                                                                                                                                                                                                                                                                                                                                                                                                                                                                                                                                                                                                                                                                                                                                                                                                                                                                                                                                                                                                                                                                                                                                                                                                                                                                                                                                                                                                                              Don't ask me why I love this movie so much...Maybe it came at a time in my life I desperately wanted to fit in, maybe it is the amazing monster effects, maybe because I enjoyed the novel \"Cabal\", but It's probably because I LOVE Clive Barker. I think it's fair to warn you the movie and the novel have no true resolve and like me you'll probably have a WTF moment at the end. At least two sequels were planned but never came about due to the fact the movie flopped for a few reasons. The studio made drastic cuts to the film cutting a good 30 or so minutes out of it and they did a HORRIBLE job promoting it. The adverts made it look like just another cheap slasher showing mainly the \"Button face/Mask\" Decker character. This is a movie about the monsters! About fantasy! About a place called Midian! It's a story where the monsters are the good guys. There is truly nothing else out there like it! It's not a movie for everybody I suppose but it stands as one of Clive's many great works. Sit back and be prepared to be taken to Midian - where the monsters are.   \n",
       "13586  Well, this is new...Famous Italian horror director Lucio Fulci shoots a film about a famous Italian horror director called...Lucio Fulci. After years and years of witnessing gruesome horror sequences, it becomes hard for Lucio to separate reality from fiction and he often hallucinates about committing violent murders. He quickly descends further into a seemly endless spiral of madness and unverifiable venom. Even the dedicated psychiatrist can't seem to keep Fulci on the right track... Now, when it comes to pure fun and entertainment value, Cat in the Brain certainly is one of Fulci's most pleasant films. The gore is overpowering and copious, to say the least. The amount of filthy massacres is impossible to describe, especially when you manage to get your hands on the fully uncut version (referred to with the aka:\"Nightmare Concert\"). Decapitations all around, victims ' intestines are spread on all sides of the screen and the chainsaws are working overtime! The film also becomes unintentionally funny quite soon (since it's so exaggerated) and a perfect experience to watch with a group of friends when there's beer in the fridge. Of course, from a more professional viewpoint, this production can't exactly be called a masterpiece! There's not the least bit of tension or atmosphere to detect and the characters are completely empty-headed. In order to make more room for the gore, characters are just being introduced for 5 seconds and subsequently die a horrible death. Especially compared with Fulci's highlights - like \"The Beyond\" or \"Don't Torture a Duckling\" - this film looks like a quickly warmed up snack. The best way to interpret \"Cat in the Brain\" is like a personal statement made by Fulci and a direct attack towards censorship. Perhaps after seeing so many of his films Â? especially the latter ones Â? being cut by censorship committees and bashed by pseudo-artistic critics, he wanted to avenge himself by delivering a gory mess that simply can't be cut! If you take out all the explicit violence and the truly sick make-up effects, you only got about 10 minutes of footage left! Especially because the insane killings re-occur later in the film as Fulci hallucinates about them again. You can almost hear our director think stuff like: \"Let's see how you're going to censor this now!\" Even the entire development of the murder investigation happens in the background. Are the victims missed by any of their friends or relatives? Are there any police officers looking for clues that'll lead them to the killer? You don't know and Lucio doesn't bother to inform you about that, because that would lead to sequences that don't require cutting. Oh, and it's pretty damn pretentious as well! The name \"Mr. Fulci\" or even \"Lucio\" is mentioned every 3 minutes (34 times throughout the entire movie, to be exact) and our director clearly enjoys being in the spotlights for a change. Hey, I certainly don't blame him...After over 30 years of delivering amusing movies; he deserved to have a little extra fun. You're a God, Mr. Fulci!   \n",
       "12216                                                                                                                                                                                                                                                                                                                                                                                                                                                                                                                                                                                                                                                                                                                                                                                                                                                                                                                                                                                                                                                                                                                                                                                                                                                                                                                                                                                                                                                                                                                                                                                                                                                                                                                                                                                                                                                                                                                                                                                                                                                                                                                                                                                                                                                                                                                                                                                                                                                                                                                                                          For all the Homicide junkies out there, this movie was great! Every single character that ever was on the show made an appearance in the movie. It helped to resolve some (but not all) issues from the series. Unfortunately, unless you actually did watch the series, most of the enjoyment would be lost, as the movie made heavy references to every season of the show's existence. This probably would have been appropriate as a series finale as opposed to being a separate movie, but we gotta take what we can get. I hope they make more movies, and continue to feature Homicide characters on Law and Order.   \n",
       "\n",
       "       true_label  predicted_y  neg_label_prob  pos_label_prob  difference  \n",
       "11628           1            0        0.778178        0.221822    0.556356  \n",
       "9082            0            1        0.478535        0.521465    0.042931  \n",
       "2481            0            1        0.007920        0.992080    0.984161  \n",
       "2756            0            1        0.195739        0.804261    0.608522  \n",
       "2506            0            1        0.400838        0.599162    0.198324  \n",
       "...           ...          ...             ...             ...         ...  \n",
       "12312           1            0        0.590683        0.409317    0.181365  \n",
       "4556            0            1        0.222534        0.777466    0.554931  \n",
       "10934           1            0        0.618488        0.381512    0.236975  \n",
       "13586           1            0        0.607903        0.392097    0.215805  \n",
       "12216           1            0        0.731939        0.268061    0.463878  \n",
       "\n",
       "[489 rows x 6 columns]"
      ]
     },
     "execution_count": 109,
     "metadata": {},
     "output_type": "execute_result"
    }
   ],
   "source": [
    "result_df[result_df['true_label'] != result_df['predicted_y']]"
   ]
  }
 ],
 "metadata": {
  "celltoolbar": "Create Assignment",
  "kernelspec": {
   "display_name": "Python 3 (ipykernel)",
   "language": "python",
   "name": "python3"
  },
  "language_info": {
   "codemirror_mode": {
    "name": "ipython",
    "version": 3
   },
   "file_extension": ".py",
   "mimetype": "text/x-python",
   "name": "python",
   "nbconvert_exporter": "python",
   "pygments_lexer": "ipython3",
   "version": "3.9.12"
  },
  "toc": {
   "base_numbering": 1,
   "nav_menu": {},
   "number_sections": false,
   "sideBar": true,
   "skip_h1_title": false,
   "title_cell": "Table of Contents",
   "title_sidebar": "Contents",
   "toc_cell": false,
   "toc_position": {
    "height": "calc(100% - 180px)",
    "left": "10px",
    "top": "150px",
    "width": "317.986px"
   },
   "toc_section_display": true,
   "toc_window_display": true
  }
 },
 "nbformat": 4,
 "nbformat_minor": 4
}
